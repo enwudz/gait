{
 "cells": [
  {
   "cell_type": "raw",
   "id": "45df7418",
   "metadata": {},
   "source": [
    "(business end of much of this = get_proportions_in_swing_categories in gait_analysis.py\n",
    "Tripod (R1L2R3 & L1R2L3)\n",
    "Tetrapod (R1L2, R2L1, R2L3, L2R3, R3L1, L3R1)\n",
    "Pentapod (just one leg swinging) ... Nirody calls this 'wave'\n",
    "Stand (no leg swings)\n",
    "Gallop (R1L1, R2L2, R3L3)\n",
    "Other (other combinations of legs)"
   ]
  },
  {
   "cell_type": "code",
   "execution_count": 1,
   "id": "185c7ad8",
   "metadata": {},
   "outputs": [],
   "source": [
    "from gait_analysis import *\n",
    "import os\n",
    "import cv2\n",
    "import numpy as np\n",
    "main_dir = os.getcwd()\n",
    "exp_dir = 'comps'\n",
    "leg_combos = get_leg_combos()\n",
    "legs = np.array(leg_combos['legs_lateral'])"
   ]
  },
  {
   "cell_type": "code",
   "execution_count": 2,
   "id": "aa2e9fd6",
   "metadata": {},
   "outputs": [],
   "source": [
    "def get_gaitstyle_data(main_dir, exp_dir, data_dir):\n",
    "    # get list of movie directories within experiment directory\n",
    "    os.chdir(main_dir)\n",
    "    os.chdir(os.path.join(main_dir,exp_dir,data_dir))\n",
    "    movie_folders = selectMultipleFromList(listDirectories())\n",
    "    all_experiment_data, total_frames = get_swing_combo_data(movie_folders, legs)\n",
    "    return all_experiment_data, total_frames "
   ]
  },
  {
   "cell_type": "code",
   "execution_count": 3,
   "id": "efef79e8",
   "metadata": {},
   "outputs": [
    {
     "name": "stdout",
     "output_type": "stream",
     "text": [
      "group1\n",
      "group2\n"
     ]
    }
   ],
   "source": [
    "os.chdir(os.path.join(main_dir,exp_dir))\n",
    "dir_list = listDirectories()\n",
    "for it in dir_list:\n",
    "    print(it)"
   ]
  },
  {
   "cell_type": "code",
   "execution_count": 4,
   "id": "5c6bf555",
   "metadata": {},
   "outputs": [
    {
     "name": "stdout",
     "output_type": "stream",
     "text": [
      "\n",
      "Choose from this list (separate by commas if multiple choices): \n",
      "1: 2a036-047\n",
      "2: 2c084-116\n",
      "3: 2c050-062\n",
      "4: 2c023-030\n",
      "5: 2c005-019\n",
      "6: 2b018-025\n",
      "7: 2a025-033\n",
      "8: 2b002-010\n",
      "9: select ALL\n",
      "\n",
      "Which number(s) do you want? 9\n",
      "\n",
      "You chose them all\n",
      "\n",
      "Found 2a036-047/mov_data.txt\n",
      "Found 2c084-116/mov_data.txt\n",
      "Found 2c050-062/mov_data.txt\n",
      "Found 2c023-030/mov_data.txt\n",
      "Found 2c005-019/mov_data.txt\n",
      "Found 2b018-025/mov_data.txt\n",
      "Found 2a025-033/mov_data.txt\n",
      "Found 2b002-010/mov_data.txt\n"
     ]
    }
   ],
   "source": [
    "# choose experiment directory below\n",
    "data_dir_1 = 'group1' # from within exp_dir\n",
    "data_1, frames_1 = get_gaitstyle_data(main_dir, exp_dir, data_dir_1)"
   ]
  },
  {
   "cell_type": "code",
   "execution_count": 5,
   "id": "d921f058",
   "metadata": {},
   "outputs": [
    {
     "name": "stdout",
     "output_type": "stream",
     "text": [
      "\n",
      "Choose from this list (separate by commas if multiple choices): \n",
      "1: 2a001-016\n",
      "2: 2b007-024\n",
      "3: 2b087-100\n",
      "4: 2b064-081\n",
      "5: 2a022-032\n",
      "6: 2b030-055\n",
      "7: select ALL\n",
      "\n",
      "Which number(s) do you want? 7\n",
      "\n",
      "You chose them all\n",
      "\n",
      "Found 2a001-016/mov_data.txt\n",
      "Found 2b007-024/mov_data.txt\n",
      "Found 2b087-100/mov_data.txt\n",
      "Found 2b064-081/mov_data.txt\n",
      "Found 2a022-032/mov_data.txt\n",
      "Found 2b030-055/mov_data.txt\n"
     ]
    }
   ],
   "source": [
    "# get more data!\n",
    "# choose experiment directory below\n",
    "data_dir_2 = 'group2' # from within analyzed_movies\n",
    "data_2, frames_2 = get_gaitstyle_data(main_dir, exp_dir, data_dir_2)"
   ]
  },
  {
   "cell_type": "code",
   "execution_count": 6,
   "id": "f719cb3c",
   "metadata": {},
   "outputs": [
    {
     "data": {
      "image/png": "[encoded data removed]",
      "text/plain": [
       "<Figure size 432x360 with 1 Axes>"
      ]
     },
     "metadata": {
      "needs_background": "light"
     },
     "output_type": "display_data"
    }
   ],
   "source": [
    "# compare gait categories between these two experiments\n",
    "all_exp_name = [data_dir_1, data_dir_2]\n",
    "all_exp_labels = all_exp_name\n",
    "# all_exp_labels = ['control','20 uM caffeine']\n",
    "\n",
    "all_cat_data = [get_proportions_in_swing_categories(data_1, frames_1)[1], \n",
    "                get_proportions_in_swing_categories(data_2, frames_2)[1]]\n",
    "\n",
    "categories = get_proportions_in_swing_categories(data_1, frames_1)[0]\n",
    "\n",
    "plot_colors = get_plot_colors(len(categories))\n",
    "figwidth = 3 * len(all_exp_name)\n",
    "\n",
    "fig = plt.figure(figsize = (figwidth,5))\n",
    "ax = fig.add_subplot(111)\n",
    "# see https://stackoverflow.com/questions/22408237/named-colors-in-matplotlib\n",
    "\n",
    "# plot\n",
    "barWidth = 0.85\n",
    "\n",
    "for j, category_data in enumerate(all_cat_data):\n",
    "    \n",
    "    for i, category in enumerate(categories):\n",
    "        if i == 0:\n",
    "            bottom = 0\n",
    "        else:\n",
    "            bottom += category_data[i-1]\n",
    "        \n",
    "        if j == 0:\n",
    "            plt.bar(j, category_data[i], bottom = bottom, color = plot_colors[i], \n",
    "                    edgecolor='white', width=barWidth, label=category)\n",
    "        else:\n",
    "            plt.bar(j, category_data[i], bottom = bottom, color = plot_colors[i], \n",
    "                    edgecolor='white', width=barWidth)\n",
    "\n",
    "ax.set_xticks(np.arange(len(all_exp_name)))\n",
    "ax.set_xticklabels(all_exp_labels, fontsize=16)\n",
    "\n",
    "# Add a legend\n",
    "handles, labels = ax.get_legend_handles_labels()\n",
    "plt.legend(reversed(handles), reversed(labels), loc='upper left',\n",
    "          bbox_to_anchor=(1,1), ncol=1)\n",
    "\n",
    "plt.ylabel('Proportion of frames', fontsize=16)\n",
    "plt.show()"
   ]
  },
  {
   "cell_type": "markdown",
   "id": "a1d611ad",
   "metadata": {},
   "source": [
    "# make a plot of steps and swings, \n",
    "# with color code gait style below"
   ]
  },
  {
   "cell_type": "code",
   "execution_count": 7,
   "id": "d4791443",
   "metadata": {},
   "outputs": [
    {
     "name": "stdout",
     "output_type": "stream",
     "text": [
      "\n",
      "Choose from this list : \n",
      "1: 2a025-033\n",
      "2: 2a036-047\n",
      "3: 2b002-010\n",
      "4: 2b018-025\n",
      "5: 2c005-019\n",
      "6: 2c023-030\n",
      "7: 2c050-062\n",
      "8: 2c084-116\n",
      "\n",
      "Which ONE do you want? 8\n",
      "\n",
      "You chose 2c084-116\n",
      "\n",
      "Found 2c084-116/mov_data.txt\n"
     ]
    }
   ],
   "source": [
    "# choose ONE clip to analyze\n",
    "data_dir = data_dir_1\n",
    "os.chdir(os.path.join(main_dir,exp_dir,data_dir))\n",
    "clip_folder = selectOneFromList(listDirectories())\n",
    "mov_data = os.path.join(clip_folder, 'mov_data.txt')\n",
    "# get step times for each leg for which we have data\n",
    "up_down_times, latest_event = getUpDownTimes(mov_data)\n",
    "# quality control on up_down_times\n",
    "qcUpDownTimes(up_down_times)\n",
    "# plot steps - choose which legs to plot\n",
    "legs = get_leg_combos()['legs_lateral']  # dictionary of all combos\n",
    "# legs = ['L4','R4'] # to manually choose sets of lets\n",
    "\n",
    "frame_times = get_frame_times(clip_folder)"
   ]
  },
  {
   "cell_type": "code",
   "execution_count": 8,
   "id": "6cc56554",
   "metadata": {},
   "outputs": [
    {
     "name": "stdout",
     "output_type": "stream",
     "text": [
      "(6, 937)\n"
     ]
    }
   ],
   "source": [
    "# trim frame_times to only include frames up to last recorded event\n",
    "last_event_frame = np.min(np.where(frame_times > latest_event*1000))\n",
    "frame_times_with_events = frame_times[:last_event_frame]\n",
    "\n",
    "# get leg matrix\n",
    "leg_matrix = make_leg_matrix(legs, up_down_times, frame_times_with_events)\n",
    "legs = np.array(legs)\n",
    "print(np.shape(leg_matrix))"
   ]
  },
  {
   "cell_type": "code",
   "execution_count": 9,
   "id": "771c1b12",
   "metadata": {},
   "outputs": [],
   "source": [
    "# get colors for different leg combos ... stupidly\n",
    "def get_leg_combo_colors():\n",
    "    \n",
    "    swing_categories = get_swing_categories() # this is 'contralateral pairs' etc.\n",
    "    plot_colors = get_plot_colors(len(swing_categories))\n",
    "    swing_category_colors = dict(zip(categories, plot_colors))\n",
    "    \n",
    "    leg_combo_colors = {}\n",
    "    leg_combo_colors['stand'] = swing_category_colors['stand']\n",
    "    leg_combo_colors['other'] = swing_category_colors['other']\n",
    "    for category in swing_categories['contralateral adjacents']:\n",
    "        leg_combo_colors[category] = swing_category_colors['tetrapod']\n",
    "    for category in swing_categories['contralateral pairs']:\n",
    "        leg_combo_colors[category] = swing_category_colors['gallop']\n",
    "    for category in swing_categories['ipsilateral adjacents']:\n",
    "        leg_combo_colors[category] = swing_category_colors['other']\n",
    "    for category in swing_categories['ipsilateral skips']:\n",
    "        leg_combo_colors[category] = swing_category_colors['other']\n",
    "    for category in swing_categories['single legs']:\n",
    "        leg_combo_colors[category] = swing_category_colors['pentapod']\n",
    "    for category in swing_categories['tripod']:\n",
    "        leg_combo_colors[category] = swing_category_colors['tripod']\n",
    "    for category in swing_categories['no legs']:\n",
    "        leg_combo_colors[category] = swing_category_colors['stand']\n",
    "    return leg_combo_colors\n",
    "\n",
    "# make a vector of COLORS from swings in leg matrix ... stupidly\n",
    "def make_swing_color_vector(leg_matrix, leg_combo_colors):\n",
    "\n",
    "    swing_color_vector = []\n",
    "\n",
    "    for col_ind in np.arange(np.shape(leg_matrix)[1]):\n",
    "        one_indices = np.where(leg_matrix[:, col_ind] == 1)\n",
    "        swinging_legs = legs[one_indices]\n",
    "        swinging_leg_key = '_'.join(sorted(swinging_legs))\n",
    "        if len(swinging_leg_key) > 0:\n",
    "            if swinging_leg_key in leg_combo_colors.keys():\n",
    "                swing_color_vector.append(leg_combo_colors[swinging_leg_key])\n",
    "            else: \n",
    "                swing_color_vector.append(leg_combo_colors['other'])\n",
    "        else:\n",
    "            swing_color_vector.append(leg_combo_colors['stand'])\n",
    "            \n",
    "    return swing_color_vector"
   ]
  },
  {
   "cell_type": "code",
   "execution_count": 10,
   "id": "100295a4",
   "metadata": {},
   "outputs": [
    {
     "data": {
      "image/png": "[encoded data removed]",
      "text/plain": [
       "<Figure size 720x288 with 2 Axes>"
      ]
     },
     "metadata": {
      "needs_background": "light"
     },
     "output_type": "display_data"
    }
   ],
   "source": [
    "swing_color_vector = make_swing_color_vector(leg_matrix, get_leg_combo_colors())\n",
    "\n",
    "# this takes a bit . . . (10 s) ... see below for another approach (messier, maybe quicker?)\n",
    "\n",
    "step_color = [0.95, 0.95, 0.95]\n",
    "swing_color = [0, 0, 0]\n",
    "\n",
    "# definitions for the axes\n",
    "# left, bottom, width, height\n",
    "rect_steps = [0.07, 0.07,  1, 0.6]\n",
    "rect_gaits = [0.07, 0.70,  1, 0.1]\n",
    "\n",
    "stepplot_colors = {1:swing_color, 0: step_color}\n",
    "gait_x = frame_times_with_events/1000\n",
    "\n",
    "fig_height = int(len(legs) * 0.7)\n",
    "fig = plt.figure(figsize=(10,fig_height))\n",
    "steps = plt.axes(rect_steps)\n",
    "\n",
    "bar_width = gait_x[1] - gait_x[0]                 \n",
    "\n",
    "for i, leg in enumerate(legs):\n",
    "    for j, x in enumerate(gait_x):\n",
    "        steps.barh(i+1, bar_width, height=1, left=j*bar_width, \n",
    "                color = stepplot_colors[leg_matrix[i, j]])\n",
    "\n",
    "steps.set_ylim([0.5, len(legs)+0.5])\n",
    "steps.set_xlabel('Time (sec)', fontsize=16)\n",
    "steps.set_yticks(np.arange(len(legs))+1)\n",
    "steps.set_yticklabels(legs, fontsize=16)\n",
    "steps.set_ylabel('legs', fontsize=16)\n",
    "steps.set_frame_on(False)\n",
    "\n",
    "gaits = plt.axes(rect_gaits)\n",
    "\n",
    "for i,x in enumerate(gait_x):\n",
    "    gaits.barh(1, bar_width, height=0.8, left=i*bar_width, color = swing_color_vector[i])\n",
    "\n",
    "gaits.set_ylabel('gait', fontsize=16)\n",
    "\n",
    "gaits.set_xlim([0, gait_x[-1]])\n",
    "steps.set_xlim([0, gait_x[-1]])\n",
    "\n",
    "gaits.set_yticks([])\n",
    "gaits.set_xticks([])\n",
    "gaits.set_frame_on(False)\n",
    "\n",
    "plt.show()"
   ]
  },
  {
   "cell_type": "code",
   "execution_count": null,
   "id": "b2f5c118",
   "metadata": {},
   "outputs": [],
   "source": [
    "# trying a different way to plot these bars . . . \n",
    "\n",
    "# print(len(swing_color_vector))\n",
    "# test_slice = swing_color_vector\n",
    "# gait_x = frame_times_with_events/1000\n",
    "# bar_width = gait_x[1] - gait_x[0]\n",
    "\n",
    "# # print(test_slice)\n",
    "# i = 0\n",
    "# current_col = test_slice[0]\n",
    "# working_slice = test_slice\n",
    "# left_edge = 0\n",
    "\n",
    "# while len(working_slice) > 0:\n",
    "#     # check to see if more than one kind of thing in working array\n",
    "#     if len(np.unique(working_slice)) > 1:\n",
    "#         next_color_ind = np.where(working_slice != current_col)[0][0]\n",
    "#         plotting_slice = working_slice[:next_color_ind]\n",
    "#         working_slice = working_slice[next_color_ind:]\n",
    "#         current_col = working_slice[0]        \n",
    "#     else:\n",
    "#         plotting_slice = working_slice\n",
    "#         working_slice = []\n",
    "        \n",
    "#     plt.barh(1, len(plotting_slice) * bar_width, height = 0.8, left = left_edge, color = plotting_slice[0])\n",
    "#     left_edge += len(plotting_slice) * bar_wid"
   ]
  },
  {
   "cell_type": "code",
   "execution_count": null,
   "id": "7b08ff02",
   "metadata": {},
   "outputs": [],
   "source": []
  }
 ],
 "metadata": {
  "kernelspec": {
   "display_name": "Python 3 (ipykernel)",
   "language": "python",
   "name": "python3"
  },
  "language_info": {
   "codemirror_mode": {
    "name": "ipython",
    "version": 3
   },
   "file_extension": ".py",
   "mimetype": "text/x-python",
   "name": "python",
   "nbconvert_exporter": "python",
   "pygments_lexer": "ipython3",
   "version": "3.8.9"
  }
 },
 "nbformat": 4,
 "nbformat_minor": 5
}
