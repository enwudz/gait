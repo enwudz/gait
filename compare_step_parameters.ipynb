{
 "cells": [
  {
   "cell_type": "raw",
   "metadata": {},
   "source": [
    "metachronal lag . . . . \n",
    "coded here such that it is first foreleg swing seen after hindleg swing.\n",
    "But I wonder ... should it be first foreleg swing seen AFTER midleg AFTER hindleg?\n",
    "\n",
    "in tripod gait, metachronal lag = hindlimb period ... so YES, *after* the intervening middle leg!\n",
    "\n",
    "So for every hindleg step ... I want to find its SWING TIME 3\n",
    "    then find the next midleg step after that, and\n",
    "        the next foreleg step after that midleg step, and find its SWING TIME 1\n",
    "        \n",
    "and metachronal lag = SWING TIME 1 - SWING TIME 3"
   ]
  },
  {
   "cell_type": "code",
   "execution_count": 1,
   "metadata": {
    "scrolled": true
   },
   "outputs": [],
   "source": [
    "# run in tardi_gait folder\n",
    "import pandas as pd\n",
    "import numpy as np\n",
    "import matplotlib.pyplot as plt\n",
    "from matplotlib.patches import Rectangle\n",
    "from gait_analysis import *\n",
    "from scipy.stats import sem\n",
    "import os\n",
    "\n",
    "main_dir = os.getcwd()"
   ]
  },
  {
   "cell_type": "code",
   "execution_count": 3,
   "metadata": {
    "scrolled": true
   },
   "outputs": [
    {
     "name": "stdout",
     "output_type": "stream",
     "text": [
      "group1\n",
      "group2\n"
     ]
    }
   ],
   "source": [
    "# get list of directories in analyzed_movies\n",
    "exp_dir = 'comps'\n",
    "os.chdir(os.path.join(main_dir, exp_dir))\n",
    "\n",
    "dir_list = listDirectories()\n",
    "for d in dir_list:\n",
    "    print(d)"
   ]
  },
  {
   "cell_type": "code",
   "execution_count": 4,
   "metadata": {
    "scrolled": true
   },
   "outputs": [],
   "source": [
    "# choose which folders to compare\n",
    "dir1 = 'group1'\n",
    "dir2 = 'group2'\n",
    "\n",
    "fname = 'all_step_data_swings.csv' # created by the script save_step_data.py"
   ]
  },
  {
   "cell_type": "code",
   "execution_count": 5,
   "metadata": {
    "scrolled": true
   },
   "outputs": [
    {
     "name": "stdout",
     "output_type": "stream",
     "text": [
      "\n",
      "Choose from this list (separate by commas if multiple choices): \n",
      "1: 3b035-043\n",
      "2: 3a034-047\n",
      "3: 3b089-101\n",
      "4: 3a007-023\n",
      "5: 3b048-069\n",
      "6: 3b120-133\n",
      "7: select ALL\n",
      "\n",
      "Which number(s) do you want? 7\n",
      "\n",
      "You chose them all\n",
      "\n",
      "could not find 3b035-043/all_step_data_swings.csv\n"
     ]
    },
    {
     "ename": "NameError",
     "evalue": "name 'exit' is not defined",
     "output_type": "error",
     "traceback": [
      "\u001b[0;31m---------------------------------------------------------------------------\u001b[0m",
      "\u001b[0;31mNameError\u001b[0m                                 Traceback (most recent call last)",
      "Input \u001b[0;32mIn [5]\u001b[0m, in \u001b[0;36m<cell line: 2>\u001b[0;34m()\u001b[0m\n\u001b[1;32m      1\u001b[0m os\u001b[38;5;241m.\u001b[39mchdir(os\u001b[38;5;241m.\u001b[39mpath\u001b[38;5;241m.\u001b[39mjoin(main_dir,exp_dir))\n\u001b[0;32m----> 2\u001b[0m df1 \u001b[38;5;241m=\u001b[39m \u001b[43mexperimentToDf\u001b[49m\u001b[43m(\u001b[49m\u001b[43mdir1\u001b[49m\u001b[43m,\u001b[49m\u001b[43mfname\u001b[49m\u001b[43m)\u001b[49m\n\u001b[1;32m      3\u001b[0m \u001b[38;5;28mprint\u001b[39m(\u001b[38;5;124m'\u001b[39m\u001b[38;5;124mDF size\u001b[39m\u001b[38;5;124m'\u001b[39m,df1\u001b[38;5;241m.\u001b[39mshape)\n\u001b[1;32m      4\u001b[0m df1[df1\u001b[38;5;241m.\u001b[39mref_leg\u001b[38;5;241m==\u001b[39m\u001b[38;5;124m'\u001b[39m\u001b[38;5;124mR3\u001b[39m\u001b[38;5;124m'\u001b[39m]\u001b[38;5;241m.\u001b[39mhead(\u001b[38;5;241m3\u001b[39m)\n",
      "File \u001b[0;32m~/OneDrive - Ithaca College/tardi_gait/gait_analysis.py:891\u001b[0m, in \u001b[0;36mexperimentToDf\u001b[0;34m(experiment_directory, fname)\u001b[0m\n\u001b[1;32m    888\u001b[0m clip_directories \u001b[38;5;241m=\u001b[39m listDirectories()\n\u001b[1;32m    890\u001b[0m clip_list \u001b[38;5;241m=\u001b[39m selectMultipleFromList(clip_directories)\n\u001b[0;32m--> 891\u001b[0m df \u001b[38;5;241m=\u001b[39m \u001b[43mfoldersToDf\u001b[49m\u001b[43m(\u001b[49m\u001b[43mclip_list\u001b[49m\u001b[43m,\u001b[49m\u001b[43m \u001b[49m\u001b[43mfname\u001b[49m\u001b[43m)\u001b[49m\n\u001b[1;32m    892\u001b[0m os\u001b[38;5;241m.\u001b[39mchdir(\u001b[38;5;124m'\u001b[39m\u001b[38;5;124m../\u001b[39m\u001b[38;5;124m'\u001b[39m)\n\u001b[1;32m    893\u001b[0m \u001b[38;5;28;01mreturn\u001b[39;00m df\n",
      "File \u001b[0;32m~/OneDrive - Ithaca College/tardi_gait/gait_analysis.py:874\u001b[0m, in \u001b[0;36mfoldersToDf\u001b[0;34m(folder_list, fname)\u001b[0m\n\u001b[1;32m    872\u001b[0m     step_data \u001b[38;5;241m=\u001b[39m stepDataToDf(folder_list[\u001b[38;5;241m0\u001b[39m], fname)\n\u001b[1;32m    873\u001b[0m \u001b[38;5;28;01melse\u001b[39;00m:\n\u001b[0;32m--> 874\u001b[0m     step_data \u001b[38;5;241m=\u001b[39m \u001b[43mstepDataToDf\u001b[49m\u001b[43m(\u001b[49m\u001b[43mfolder_list\u001b[49m\u001b[43m[\u001b[49m\u001b[38;5;241;43m0\u001b[39;49m\u001b[43m]\u001b[49m\u001b[43m,\u001b[49m\u001b[43m \u001b[49m\u001b[43mfname\u001b[49m\u001b[43m)\u001b[49m\n\u001b[1;32m    875\u001b[0m     folder_list \u001b[38;5;241m=\u001b[39m folder_list[\u001b[38;5;241m1\u001b[39m:]\n\u001b[1;32m    876\u001b[0m     \u001b[38;5;28;01mfor\u001b[39;00m folder \u001b[38;5;129;01min\u001b[39;00m folder_list:\n",
      "File \u001b[0;32m~/OneDrive - Ithaca College/tardi_gait/gait_analysis.py:858\u001b[0m, in \u001b[0;36mstepDataToDf\u001b[0;34m(foldername, fname)\u001b[0m\n\u001b[1;32m    856\u001b[0m \u001b[38;5;28;01mdef\u001b[39;00m \u001b[38;5;21mstepDataToDf\u001b[39m(foldername, fname):\n\u001b[1;32m    857\u001b[0m     fpath \u001b[38;5;241m=\u001b[39m os\u001b[38;5;241m.\u001b[39mpath\u001b[38;5;241m.\u001b[39mjoin(foldername, fname)\n\u001b[0;32m--> 858\u001b[0m     \u001b[43mfileTest\u001b[49m\u001b[43m(\u001b[49m\u001b[43mfpath\u001b[49m\u001b[43m)\u001b[49m  \u001b[38;5;66;03m# to test if file exists before trying to open it\u001b[39;00m\n\u001b[1;32m    859\u001b[0m     df \u001b[38;5;241m=\u001b[39m pd\u001b[38;5;241m.\u001b[39mread_csv(fpath, index_col\u001b[38;5;241m=\u001b[39m\u001b[38;5;28;01mNone\u001b[39;00m)\n\u001b[1;32m    861\u001b[0m     \u001b[38;5;66;03m# add column that contains folder name\u001b[39;00m\n",
      "File \u001b[0;32m~/OneDrive - Ithaca College/tardi_gait/gait_analysis.py:226\u001b[0m, in \u001b[0;36mfileTest\u001b[0;34m(fname)\u001b[0m\n\u001b[1;32m    224\u001b[0m     err \u001b[38;5;241m=\u001b[39m \u001b[38;5;124m'\u001b[39m\u001b[38;5;124mcould not find \u001b[39m\u001b[38;5;124m'\u001b[39m \u001b[38;5;241m+\u001b[39m fname\n\u001b[1;32m    225\u001b[0m     \u001b[38;5;28mprint\u001b[39m(err)\n\u001b[0;32m--> 226\u001b[0m     \u001b[43mexit\u001b[49m()\n\u001b[1;32m    228\u001b[0m \u001b[38;5;28;01melse\u001b[39;00m:\n\u001b[1;32m    229\u001b[0m     \u001b[38;5;28mprint\u001b[39m(\u001b[38;5;124m'\u001b[39m\u001b[38;5;124mFound \u001b[39m\u001b[38;5;124m'\u001b[39m \u001b[38;5;241m+\u001b[39m fname)\n",
      "\u001b[0;31mNameError\u001b[0m: name 'exit' is not defined"
     ]
    }
   ],
   "source": [
    "os.chdir(os.path.join(main_dir,exp_dir))\n",
    "df1 = experimentToDf(dir1,fname)\n",
    "print('DF size',df1.shape)\n",
    "df1[df1.ref_leg=='R3'].head(3) "
   ]
  },
  {
   "cell_type": "code",
   "execution_count": 9,
   "metadata": {},
   "outputs": [
    {
     "name": "stdout",
     "output_type": "stream",
     "text": [
      "\n",
      "Choose from this list (separate by commas if multiple choices): \n",
      "1: 1b002-013\n",
      "2: 1a014-031\n",
      "3: 1a003-009\n",
      "4: select ALL\n",
      "\n",
      "Which number(s) do you want? 4\n",
      "\n",
      "You chose them all\n",
      "\n",
      "Found 1b002-013/all_step_data_swings.csv\n",
      "Found 1a014-031/all_step_data_swings.csv\n",
      "Found 1a003-009/all_step_data_swings.csv\n",
      "DF size (307, 17)\n"
     ]
    },
    {
     "data": {
      "text/html": [
       "<div>\n",
       "<style scoped>\n",
       "    .dataframe tbody tr th:only-of-type {\n",
       "        vertical-align: middle;\n",
       "    }\n",
       "\n",
       "    .dataframe tbody tr th {\n",
       "        vertical-align: top;\n",
       "    }\n",
       "\n",
       "    .dataframe thead th {\n",
       "        text-align: right;\n",
       "    }\n",
       "</style>\n",
       "<table border=\"1\" class=\"dataframe\">\n",
       "  <thead>\n",
       "    <tr style=\"text-align: right;\">\n",
       "      <th></th>\n",
       "      <th>ref_leg</th>\n",
       "      <th>down_time</th>\n",
       "      <th>up_time</th>\n",
       "      <th>stance_time</th>\n",
       "      <th>swing_time</th>\n",
       "      <th>gait_cycle</th>\n",
       "      <th>duty_factor</th>\n",
       "      <th>mid_swing</th>\n",
       "      <th>R4_mid_swings</th>\n",
       "      <th>R3_mid_swings</th>\n",
       "      <th>R2_mid_swings</th>\n",
       "      <th>R1_mid_swings</th>\n",
       "      <th>L1_mid_swings</th>\n",
       "      <th>L2_mid_swings</th>\n",
       "      <th>L3_mid_swings</th>\n",
       "      <th>L4_mid_swings</th>\n",
       "      <th>clip</th>\n",
       "    </tr>\n",
       "  </thead>\n",
       "  <tbody>\n",
       "    <tr>\n",
       "      <th>15</th>\n",
       "      <td>R3</td>\n",
       "      <td>0.668</td>\n",
       "      <td>1.236</td>\n",
       "      <td>0.568</td>\n",
       "      <td>0.234</td>\n",
       "      <td>0.802</td>\n",
       "      <td>0.7082</td>\n",
       "      <td>1.3530</td>\n",
       "      <td>R4:0.4165</td>\n",
       "      <td>R3:0.8541</td>\n",
       "      <td>R2:</td>\n",
       "      <td>R1:0.4595</td>\n",
       "      <td>L1:0.8541</td>\n",
       "      <td>L2:0.4389</td>\n",
       "      <td>L3:0.1054</td>\n",
       "      <td>L4:0.7082</td>\n",
       "      <td>1b002-013</td>\n",
       "    </tr>\n",
       "    <tr>\n",
       "      <th>16</th>\n",
       "      <td>R3</td>\n",
       "      <td>1.470</td>\n",
       "      <td>2.070</td>\n",
       "      <td>0.600</td>\n",
       "      <td>0.233</td>\n",
       "      <td>0.833</td>\n",
       "      <td>0.7203</td>\n",
       "      <td>2.1865</td>\n",
       "      <td>R4:0.4196</td>\n",
       "      <td>R3:0.8601</td>\n",
       "      <td>R2:0.12</td>\n",
       "      <td>R1:0.5</td>\n",
       "      <td>L1:0.7197</td>\n",
       "      <td>L2:0.3998</td>\n",
       "      <td>L3:0.1194;0.94</td>\n",
       "      <td>L4:0.62</td>\n",
       "      <td>1b002-013</td>\n",
       "    </tr>\n",
       "    <tr>\n",
       "      <th>17</th>\n",
       "      <td>R3</td>\n",
       "      <td>2.303</td>\n",
       "      <td>2.838</td>\n",
       "      <td>0.535</td>\n",
       "      <td>0.233</td>\n",
       "      <td>0.768</td>\n",
       "      <td>0.6966</td>\n",
       "      <td>2.9545</td>\n",
       "      <td>R4:0.5007</td>\n",
       "      <td>R3:0.8483</td>\n",
       "      <td>R2:0.1302</td>\n",
       "      <td>R1:0.5</td>\n",
       "      <td>L1:0.7181</td>\n",
       "      <td>L2:0.304</td>\n",
       "      <td>L3:</td>\n",
       "      <td>L4:0.6087</td>\n",
       "      <td>1b002-013</td>\n",
       "    </tr>\n",
       "  </tbody>\n",
       "</table>\n",
       "</div>"
      ],
      "text/plain": [
       "   ref_leg  down_time  up_time  stance_time  swing_time  gait_cycle  \\\n",
       "15      R3      0.668    1.236        0.568       0.234       0.802   \n",
       "16      R3      1.470    2.070        0.600       0.233       0.833   \n",
       "17      R3      2.303    2.838        0.535       0.233       0.768   \n",
       "\n",
       "    duty_factor  mid_swing R4_mid_swings R3_mid_swings R2_mid_swings  \\\n",
       "15       0.7082     1.3530     R4:0.4165     R3:0.8541           R2:   \n",
       "16       0.7203     2.1865     R4:0.4196     R3:0.8601       R2:0.12   \n",
       "17       0.6966     2.9545     R4:0.5007     R3:0.8483     R2:0.1302   \n",
       "\n",
       "   R1_mid_swings L1_mid_swings L2_mid_swings   L3_mid_swings L4_mid_swings  \\\n",
       "15     R1:0.4595     L1:0.8541     L2:0.4389       L3:0.1054     L4:0.7082   \n",
       "16        R1:0.5     L1:0.7197     L2:0.3998  L3:0.1194;0.94       L4:0.62   \n",
       "17        R1:0.5     L1:0.7181      L2:0.304             L3:     L4:0.6087   \n",
       "\n",
       "         clip  \n",
       "15  1b002-013  \n",
       "16  1b002-013  \n",
       "17  1b002-013  "
      ]
     },
     "execution_count": 9,
     "metadata": {},
     "output_type": "execute_result"
    }
   ],
   "source": [
    "df2 = experimentToDf(dir2,fname)\n",
    "print('DF size',df2.shape)\n",
    "df2[df2.ref_leg=='R3'].head(3) "
   ]
  },
  {
   "cell_type": "code",
   "execution_count": 10,
   "metadata": {
    "scrolled": true
   },
   "outputs": [
    {
     "name": "stdout",
     "output_type": "stream",
     "text": [
      "legs_all ['L4', 'L3', 'L2', 'L1', 'R1', 'R2', 'R3', 'R4']\n",
      "legs_lateral ['L3', 'L2', 'L1', 'R1', 'R2', 'R3']\n",
      "legs_all_right ['R4', 'R3', 'R2', 'R1']\n",
      "legs_all_left ['L4', 'L3', 'L2', 'L1']\n",
      "legs_right ['R3', 'R2', 'R1']\n",
      "legs_left ['L3', 'L2', 'L1']\n",
      "legs_1 ['R1', 'L1']\n",
      "legs_2 ['R2', 'L2']\n",
      "legs_3 ['R3', 'L3']\n",
      "legs_4 ['R4', 'L4']\n",
      "\n",
      "comparing  ['L3', 'L2', 'L1', 'R1', 'R2', 'R3']\n"
     ]
    }
   ],
   "source": [
    "# which legs should we compare?\n",
    "leg_combos = get_leg_combos()\n",
    "for combo in leg_combos:\n",
    "    print(combo,leg_combos[combo])\n",
    "    \n",
    "legs_to_comp = leg_combos['legs_lateral']\n",
    "print('\\ncomparing ',legs_to_comp)"
   ]
  },
  {
   "cell_type": "code",
   "execution_count": 11,
   "metadata": {
    "scrolled": true
   },
   "outputs": [],
   "source": [
    "def custom_boxplot(bp):\n",
    "    for box in bp['boxes']:\n",
    "        box.set(color ='k', linewidth = 2, linestyle =\"-\")\n",
    "\n",
    "    for whisker in bp['whiskers']:\n",
    "        whisker.set(color ='k', linewidth = 2, linestyle =\"-\")\n",
    "\n",
    "    for cap in bp['caps']:\n",
    "        cap.set(color ='k', linewidth = 2)\n",
    "\n",
    "    # changing color and linewidth of medians\n",
    "    for median in bp['medians']:\n",
    "        median.set(color ='k', linewidth = 2)\n",
    "\n",
    "    # changing style of fliers\n",
    "    for flier in bp['fliers']:\n",
    "        flier.set(marker ='.', color ='#e7298a', alpha = 0.5)\n",
    "        \n",
    "    return bp"
   ]
  },
  {
   "cell_type": "code",
   "execution_count": 12,
   "metadata": {},
   "outputs": [
    {
     "name": "stdout",
     "output_type": "stream",
     "text": [
      "[0.433, 0.534, 0.501, 0.534, 0.5, 0.567, 0.533, 0.467, 0.567, 0.5, 0.5, 0.534, 0.501, 0.434, 0.6, 0.433, 0.567, 0.467, 0.601, 0.5, 0.6, 0.467, 0.467, 0.901, 0.867, 0.834, 1.134, 1.034, 0.934, 0.801, 0.9, 1.001, 0.6, 0.6, 0.6, 0.5, 0.567, 0.634, 0.6, 0.567, 0.633, 0.601, 0.734, 0.567, 0.434, 0.5, 0.467, 0.467, 0.5, 0.6, 0.701, 0.601, 0.5, 0.667, 0.5, 0.533, 0.467, 0.533, 0.501, 0.533, 0.467, 0.5, 0.5, 0.434, 0.533, 0.567, 0.567, 0.467, 0.534, 0.567, 0.467, 0.534, 0.467, 0.467, 0.501, 0.501, 0.567, 0.567, 0.467, 0.533]\n",
      "[0.648, 0.763, 0.683, 0.763, 0.681, 0.85, 0.665, 0.636, 0.739, 0.624, 0.714, 0.728, 0.683, 0.651, 0.719, 0.619, 0.772, 0.609, 0.819, 0.652, 0.817, 0.609, 0.583, 1.175, 1.04, 1.087, 1.545, 1.411, 1.076, 1.144, 1.226, 1.43, 0.782, 0.782, 0.719, 0.713, 0.809, 0.761, 0.817, 0.739, 0.949, 0.75, 0.918, 0.629, 0.566, 0.652, 0.7, 0.636, 0.75, 0.856, 0.914, 0.751, 0.713, 0.953, 0.577, 0.694, 0.667, 0.726, 0.683, 0.726, 0.738, 0.6, 0.75, 0.651, 0.76, 0.81, 0.772, 0.667, 0.696, 0.849, 0.666, 0.763, 0.666, 0.7, 0.716, 0.715, 0.772, 0.81, 0.636, 0.76]\n"
     ]
    }
   ],
   "source": [
    "metachronal_lag, normalized_metachronal_lag = get_metachronal_lag(df1)\n",
    "print(metachronal_lag)\n",
    "print(normalized_metachronal_lag)"
   ]
  },
  {
   "cell_type": "code",
   "execution_count": 14,
   "metadata": {
    "scrolled": true
   },
   "outputs": [
    {
     "data": {
      "image/png": "[encoded data removed]",
      "text/plain": [
       "<Figure size 576x432 with 5 Axes>"
      ]
     },
     "metadata": {},
     "output_type": "display_data"
    }
   ],
   "source": [
    "# in each experiment . . . (df1 and df2)\n",
    "# get step parameters for each experiment\n",
    "# for the legs in legs_to_comp\n",
    "\n",
    "# error bars for stance and swing duration:\n",
    "# choose from std or sem (could also use 95%CI but need to code that)\n",
    "# sem is really small, b/c sample size (every step) is so big\n",
    "\n",
    "plt.style.use('seaborn')\n",
    "\n",
    "stance_color = [0.4,0.4,0.4]\n",
    "swing_color = [0.8,0.8,0.8]\n",
    "\n",
    "comps = [dir1,dir2]\n",
    "\n",
    "# comp_labs = comps\n",
    "comp_labs = ['control','20 µM caffeine']\n",
    "\n",
    "stances_1 = df1[df1['ref_leg'].isin(legs_to_comp)]['stance_time'].values\n",
    "stances_2 = df2[df2['ref_leg'].isin(legs_to_comp)]['stance_time'].values\n",
    "stances = [np.mean(stances_1),np.mean(stances_2)]\n",
    "# stance_err = [np.std(stances_1),np.std(stances_2)]\n",
    "stance_err = [sem(stances_1),sem(stances_2)]\n",
    "\n",
    "swings_1 = df1[df1['ref_leg'].isin(legs_to_comp)]['swing_time'].values\n",
    "swings_2 = df2[df2['ref_leg'].isin(legs_to_comp)]['swing_time'].values\n",
    "swings = [np.mean(swings_1),np.mean(swings_2)]\n",
    "# swing_err = [np.std(swings_1),np.std(swings_2)]\n",
    "swing_err = [sem(swings_1),sem(swings_2)]\n",
    "\n",
    "gait_cycles_1 = df1[df1['ref_leg'].isin(legs_to_comp)]['gait_cycle'].values\n",
    "gait_cycles_2 = df2[df2['ref_leg'].isin(legs_to_comp)]['gait_cycle'].values\n",
    "gait_cycles = [gait_cycles_1,gait_cycles_2]\n",
    "\n",
    "duty_factors_1 = df1[df1['ref_leg'].isin(legs_to_comp)]['duty_factor'].values\n",
    "duty_factors_2 = df2[df2['ref_leg'].isin(legs_to_comp)]['duty_factor'].values\n",
    "duty_factors = [duty_factors_1,duty_factors_2]\n",
    "\n",
    "ml1, nml1 = get_metachronal_lag(df1)\n",
    "ml2, nml2 = get_metachronal_lag(df2)\n",
    "ml = [ml1,ml2]\n",
    "nml = [nml1,nml2]\n",
    "\n",
    "fig = plt.figure(figsize=(8,6))\n",
    "\n",
    "# Stance and Swing duration\n",
    "ax1 = fig.add_subplot(321)\n",
    "ax1.barh(comps, stances, align='center', height=.25, xerr = stance_err,\n",
    "         color=stance_color, label='stances')\n",
    "ax1.barh(comps, swings, align='center', height=.25, left=stances, xerr = swing_err,\n",
    "         color=swing_color ,label='swings')\n",
    "ax1.set_xlabel('Stance and Swing time (sec)')\n",
    "ax1.set_yticks(np.array(range(len(comps))))\n",
    "ax1.set_yticklabels(comp_labs, fontsize=10)\n",
    "\n",
    "# Gait_cycle (aka leg period)\n",
    "ax3 = fig.add_subplot(323)\n",
    "bp3 = ax3.boxplot(gait_cycles, vert = False)\n",
    "bp3 = custom_boxplot(bp3)\n",
    "ax3.set_yticks(np.array(range(len(comps)))+1)\n",
    "ax3.set_yticklabels(comp_labs, fontsize=10)\n",
    "ax3.set_xlabel('Leg Period (sec)')\n",
    "\n",
    "# Duty Factor\n",
    "ax5 = fig.add_subplot(325)\n",
    "bp5 = ax5.boxplot(duty_factors, vert = False)\n",
    "bp5 = custom_boxplot(bp5)\n",
    "ax5.set_yticks(np.array(range(len(comps)))+1)\n",
    "ax5.set_yticklabels(comp_labs, fontsize=10)\n",
    "ax5.set_xlabel('Duty factor')\n",
    "\n",
    "# Metachronal lag\n",
    "ax2 = fig.add_subplot(322)\n",
    "bp2 = ax2.boxplot(ml, vert = False)\n",
    "bp2 = custom_boxplot(bp2)\n",
    "ax2.set_yticks(np.array(range(len(comps)))+1)\n",
    "ax2.set_yticklabels(comp_labs, fontsize=10)\n",
    "ax2.set_xlabel('Metachronal lag (sec)')\n",
    "\n",
    "# Normalized metachronal lag\n",
    "ax4 = fig.add_subplot(324)\n",
    "bp4 = ax4.boxplot(nml, vert = False)\n",
    "bp4 = custom_boxplot(bp4)\n",
    "ax4.set_yticks(np.array(range(len(comps)))+1)\n",
    "ax4.set_yticklabels(comp_labs, fontsize=10)\n",
    "ax4.set_xlabel('Normalized metachronal lag')\n",
    "\n",
    "plt.tight_layout()\n",
    "plt.show()"
   ]
  },
  {
   "cell_type": "code",
   "execution_count": null,
   "metadata": {
    "scrolled": true
   },
   "outputs": [],
   "source": []
  }
 ],
 "metadata": {
  "kernelspec": {
   "display_name": "Python 3 (ipykernel)",
   "language": "python",
   "name": "python3"
  },
  "language_info": {
   "codemirror_mode": {
    "name": "ipython",
    "version": 3
   },
   "file_extension": ".py",
   "mimetype": "text/x-python",
   "name": "python",
   "nbconvert_exporter": "python",
   "pygments_lexer": "ipython3",
   "version": "3.8.9"
  }
 },
 "nbformat": 4,
 "nbformat_minor": 4
}
