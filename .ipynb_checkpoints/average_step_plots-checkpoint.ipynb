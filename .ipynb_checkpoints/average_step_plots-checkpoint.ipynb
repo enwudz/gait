{
 "cells": [
  {
   "cell_type": "raw",
   "id": "5fb9067a",
   "metadata": {},
   "source": [
    "This notebook will take data from one experiment or several experiments, combine the data, and make some plots. There are some data exploration plots, and then the final output is a plot of 'average' steps over a small period of time.\n",
    "\n",
    "The file all_step_data_swings.csv is created by the script save_step_data.py (be sure to run in python3)\n",
    "    \n",
    "    save_step_data.py: for every step for every leg in ONE video\n",
    "        It gets step statistics (stance time, swing time, gait cycle duration, duty factor ...) \n",
    "        It also gets mid_swing timing for other legs, expressed as a fraction of gait_cycle for the reference leg\n",
    "           these look like this: R1:0.0644;0.8383 \n",
    "               (the above means R1 had two swings during this leg's gait cycle, near beginning and end)\n",
    "    \n",
    "    So 16 columns:\n",
    "        8 for step stats, 8 for mid_swing timing for all other legs"
   ]
  },
  {
   "cell_type": "code",
   "execution_count": 1,
   "id": "3acf0bfd",
   "metadata": {},
   "outputs": [],
   "source": [
    "import pandas as pd\n",
    "import numpy as np\n",
    "import matplotlib.pyplot as plt\n",
    "from matplotlib.patches import Rectangle\n",
    "from gait_analysis import *\n",
    "import os"
   ]
  },
  {
   "cell_type": "code",
   "execution_count": 2,
   "id": "0e89e15c",
   "metadata": {},
   "outputs": [
    {
     "name": "stdout",
     "output_type": "stream",
     "text": [
      "group1\n",
      "group2\n"
     ]
    }
   ],
   "source": [
    "# run in tardi_gait folder, which has all of the necessary scripts\n",
    "# also in this folder = a folder called analyzed_movies, which contains folders of data for a bunch of experiments\n",
    "\n",
    "# First, get a list of available experiments\n",
    "main_dir = os.getcwd()\n",
    "os.chdir(os.path.join(main_dir,'comps'))\n",
    "\n",
    "dir_list = listDirectories()\n",
    "for d in dir_list:\n",
    "    print(d)"
   ]
  },
  {
   "cell_type": "code",
   "execution_count": 11,
   "id": "91aaced6",
   "metadata": {},
   "outputs": [
    {
     "name": "stdout",
     "output_type": "stream",
     "text": [
      "\n",
      "Choose from this list (separate by commas if multiple choices): \n",
      "1: 2a001-016\n",
      "2: 2b007-024\n",
      "3: 2b087-100\n",
      "4: 2b064-081\n",
      "5: 2a022-032\n",
      "6: 2b030-055\n",
      "7: select ALL\n",
      "\n",
      "Which number(s) do you want? 7\n",
      "\n",
      "You chose them all\n",
      "\n",
      "Found 2a001-016/all_step_data_swings.csv\n",
      "Found 2b007-024/all_step_data_swings.csv\n",
      "Found 2b087-100/all_step_data_swings.csv\n",
      "Found 2b064-081/all_step_data_swings.csv\n",
      "Found 2a022-032/all_step_data_swings.csv\n",
      "Found 2b030-055/all_step_data_swings.csv\n"
     ]
    },
    {
     "data": {
      "text/html": [
       "<div>\n",
       "<style scoped>\n",
       "    .dataframe tbody tr th:only-of-type {\n",
       "        vertical-align: middle;\n",
       "    }\n",
       "\n",
       "    .dataframe tbody tr th {\n",
       "        vertical-align: top;\n",
       "    }\n",
       "\n",
       "    .dataframe thead th {\n",
       "        text-align: right;\n",
       "    }\n",
       "</style>\n",
       "<table border=\"1\" class=\"dataframe\">\n",
       "  <thead>\n",
       "    <tr style=\"text-align: right;\">\n",
       "      <th></th>\n",
       "      <th>ref_leg</th>\n",
       "      <th>down_time</th>\n",
       "      <th>up_time</th>\n",
       "      <th>stance_time</th>\n",
       "      <th>swing_time</th>\n",
       "      <th>gait_cycle</th>\n",
       "      <th>duty_factor</th>\n",
       "      <th>mid_swing</th>\n",
       "      <th>R4_mid_swings</th>\n",
       "      <th>R3_mid_swings</th>\n",
       "      <th>R2_mid_swings</th>\n",
       "      <th>R1_mid_swings</th>\n",
       "      <th>L1_mid_swings</th>\n",
       "      <th>L2_mid_swings</th>\n",
       "      <th>L3_mid_swings</th>\n",
       "      <th>L4_mid_swings</th>\n",
       "      <th>clip</th>\n",
       "    </tr>\n",
       "  </thead>\n",
       "  <tbody>\n",
       "    <tr>\n",
       "      <th>0</th>\n",
       "      <td>R4</td>\n",
       "      <td>1.100</td>\n",
       "      <td>2.268</td>\n",
       "      <td>1.168</td>\n",
       "      <td>0.433</td>\n",
       "      <td>1.601</td>\n",
       "      <td>0.7295</td>\n",
       "      <td>2.4845</td>\n",
       "      <td>R4:0.8648</td>\n",
       "      <td>R3:0.2917</td>\n",
       "      <td>R2:0.5418</td>\n",
       "      <td>R1:0.8438</td>\n",
       "      <td>L1:0.2502;0.7399</td>\n",
       "      <td>L2:</td>\n",
       "      <td>L3:0.8335</td>\n",
       "      <td>L4:0.4063</td>\n",
       "      <td>2a001-016</td>\n",
       "    </tr>\n",
       "    <tr>\n",
       "      <th>1</th>\n",
       "      <td>R4</td>\n",
       "      <td>2.701</td>\n",
       "      <td>3.969</td>\n",
       "      <td>1.268</td>\n",
       "      <td>0.600</td>\n",
       "      <td>1.868</td>\n",
       "      <td>0.6788</td>\n",
       "      <td>4.2690</td>\n",
       "      <td>R4:0.8394</td>\n",
       "      <td>R3:0.2679</td>\n",
       "      <td>R2:0.5806</td>\n",
       "      <td>R1:0.7768</td>\n",
       "      <td>L1:0.1697;0.5359</td>\n",
       "      <td>L2:0.2947</td>\n",
       "      <td>L3:0.8215</td>\n",
       "      <td>L4:0.3841</td>\n",
       "      <td>2a001-016</td>\n",
       "    </tr>\n",
       "    <tr>\n",
       "      <th>2</th>\n",
       "      <td>R4</td>\n",
       "      <td>4.569</td>\n",
       "      <td>5.903</td>\n",
       "      <td>1.334</td>\n",
       "      <td>0.567</td>\n",
       "      <td>1.901</td>\n",
       "      <td>0.7017</td>\n",
       "      <td>6.1865</td>\n",
       "      <td>R4:0.8509</td>\n",
       "      <td>R3:0.1931</td>\n",
       "      <td>R2:0.43</td>\n",
       "      <td>R1:0.6142</td>\n",
       "      <td>L1:0.2722</td>\n",
       "      <td>L2:0.1142;0.8598</td>\n",
       "      <td>L3:0.6142</td>\n",
       "      <td>L4:0.0968</td>\n",
       "      <td>2a001-016</td>\n",
       "    </tr>\n",
       "  </tbody>\n",
       "</table>\n",
       "</div>"
      ],
      "text/plain": [
       "  ref_leg  down_time  up_time  stance_time  swing_time  gait_cycle  \\\n",
       "0      R4      1.100    2.268        1.168       0.433       1.601   \n",
       "1      R4      2.701    3.969        1.268       0.600       1.868   \n",
       "2      R4      4.569    5.903        1.334       0.567       1.901   \n",
       "\n",
       "   duty_factor  mid_swing R4_mid_swings R3_mid_swings R2_mid_swings  \\\n",
       "0       0.7295     2.4845     R4:0.8648     R3:0.2917     R2:0.5418   \n",
       "1       0.6788     4.2690     R4:0.8394     R3:0.2679     R2:0.5806   \n",
       "2       0.7017     6.1865     R4:0.8509     R3:0.1931       R2:0.43   \n",
       "\n",
       "  R1_mid_swings     L1_mid_swings     L2_mid_swings L3_mid_swings  \\\n",
       "0     R1:0.8438  L1:0.2502;0.7399               L2:     L3:0.8335   \n",
       "1     R1:0.7768  L1:0.1697;0.5359         L2:0.2947     L3:0.8215   \n",
       "2     R1:0.6142         L1:0.2722  L2:0.1142;0.8598     L3:0.6142   \n",
       "\n",
       "  L4_mid_swings       clip  \n",
       "0     L4:0.4063  2a001-016  \n",
       "1     L4:0.3841  2a001-016  \n",
       "2     L4:0.0968  2a001-016  "
      ]
     },
     "execution_count": 11,
     "metadata": {},
     "output_type": "execute_result"
    }
   ],
   "source": [
    "# select an experiment to analyze\n",
    "experiment_dir = 'group2'\n",
    "\n",
    "# LOOK IN MULTIPLE FOLDERS AND COMBINE DATA\n",
    "fname = 'all_step_data_swings.csv' # created by the script save_step_data.py\n",
    "step_data = experimentToDf(experiment_dir,fname)\n",
    "step_data.head(3)"
   ]
  },
  {
   "cell_type": "raw",
   "id": "031947c1",
   "metadata": {},
   "source": [
    "The file all_step_data_swings.csv is created by the script save_step_data.py (be sure to run in python 3)\n",
    "See the script for details\n",
    "\n",
    "For every step for every leg in ONE video\n",
    "    It gets step statistics (stance time, swing time, gait cycle duration, duty factor ...) \n",
    "    It also gets mid_swing timing for all other legs, expressed as a fraction of gait_cycle for the reference leg\n",
    "       these look like this: R1:0.0644;0.8383 \n",
    "           (the above means R1 had two swings during this leg's gait cycle, near beginning and end)\n",
    "    \n",
    "So 16 columns:\n",
    "8 for step stats, 8 for mid_swing timing for all other legs"
   ]
  },
  {
   "cell_type": "code",
   "execution_count": 12,
   "id": "850a4d7b",
   "metadata": {},
   "outputs": [
    {
     "name": "stdout",
     "output_type": "stream",
     "text": [
      "2b007-024\n",
      "2a001-016\n",
      "2a022-032\n",
      "2b087-100\n",
      "2b064-081\n",
      "2b030-055\n"
     ]
    },
    {
     "data": {
      "image/png": "[encoded data removed]",
      "text/plain": [
       "<Figure size 576x216 with 1 Axes>"
      ]
     },
     "metadata": {
      "needs_background": "light"
     },
     "output_type": "display_data"
    }
   ],
   "source": [
    "# Quality control, \n",
    "# e.g. how consistent is a given parameter between the different clips?\n",
    "\n",
    "clips = list(set(step_data['clip'].values))\n",
    "parameter = 'duty_factor' # stance_time, swing_time, duty_factor, gait_cycle\n",
    "leg = 'R2'\n",
    "data_to_plot = []\n",
    "for clip in clips:\n",
    "    print(clip)\n",
    "    data_for_clip = step_data[step_data['clip'] == clip]\n",
    "    data_for_leg = data_for_clip[data_for_clip['ref_leg']==leg]\n",
    "    data_for_parameter = data_for_leg[parameter].values\n",
    "    data_to_plot.append(data_for_parameter)\n",
    "    \n",
    "f = plt.figure(figsize = (8,3))\n",
    "plt.boxplot(data_to_plot, vert=False)\n",
    "locs, labels = plt.yticks()\n",
    "labels = clips\n",
    "plt.yticks(locs,labels)\n",
    "plt.xlabel(parameter + ' for ' + leg)\n",
    "plt.show()"
   ]
  },
  {
   "cell_type": "code",
   "execution_count": 13,
   "id": "990fee89",
   "metadata": {},
   "outputs": [
    {
     "name": "stdout",
     "output_type": "stream",
     "text": [
      "legs_all ['L4', 'L3', 'L2', 'L1', 'R1', 'R2', 'R3', 'R4']\n",
      "legs_lateral ['L3', 'L2', 'L1', 'R1', 'R2', 'R3']\n",
      "legs_all_right ['R4', 'R3', 'R2', 'R1']\n",
      "legs_all_left ['L4', 'L3', 'L2', 'L1']\n",
      "legs_right ['R3', 'R2', 'R1']\n",
      "legs_left ['L3', 'L2', 'L1']\n",
      "legs_1 ['R1', 'L1']\n",
      "legs_2 ['R2', 'L2']\n",
      "legs_3 ['R3', 'L3']\n",
      "legs_4 ['R4', 'L4']\n"
     ]
    }
   ],
   "source": [
    "# set up interesting leg groupings\n",
    "leg_combos = get_leg_combos()\n",
    "for combo in leg_combos.keys():\n",
    "    print(combo, leg_combos[combo])"
   ]
  },
  {
   "cell_type": "code",
   "execution_count": 14,
   "id": "376fd705",
   "metadata": {},
   "outputs": [
    {
     "data": {
      "image/png": "[encoded data removed]",
      "text/plain": [
       "<Figure size 864x288 with 1 Axes>"
      ]
     },
     "metadata": {
      "needs_background": "light"
     },
     "output_type": "display_data"
    }
   ],
   "source": [
    "# Quality control, \n",
    "# e.g. what are gait parameters for different legs?\n",
    "\n",
    "leg_set = leg_combos['legs_all']\n",
    "parameter = 'duty_factor' # stance_time, swing_time, duty_factor, gait_cycle\n",
    "\n",
    "leg_data = []\n",
    "for leg in leg_set:\n",
    "    data_for_leg = step_data[step_data['ref_leg']==leg][parameter].values\n",
    "    leg_data.append(data_for_leg)\n",
    "\n",
    "plt.style.use('seaborn-poster') #seaborn-whitegrid seaborn-paper seaborn-talk seaborn-poster\n",
    "fig_widgth = int(np.round(len(leg_set)*1.5))\n",
    "f = plt.figure(figsize = (fig_widgth,4))\n",
    "plt.boxplot(leg_data)\n",
    "locs, labels = plt.xticks()\n",
    "labels = leg_set\n",
    "plt.xticks(locs,labels)\n",
    "plt.ylabel(parameter)\n",
    "plt.show()"
   ]
  },
  {
   "cell_type": "raw",
   "id": "f1c13f58",
   "metadata": {},
   "source": [
    "To make 'average step plot', focus on swings ... \n",
    "\n",
    "get center points for swings for all legs\n",
    "    \n",
    "so each video will get info like this (save_step_data script to convert mov_data.txt all_step_stats.csv)\n",
    "    each leg (only for complete cycles)\n",
    "       downs, ups, stances, swings, gait cycles, duty factors, swing midpoint times\n",
    "\n",
    "then from this info\n",
    "    choose a starting leg on one side\n",
    "        find where average midpoints of swings of other legs on that side occur ... use this to plot all legs.\n",
    "        \n",
    "    then do other side, starting with leg opposite the starting leg (or starting leg?)    "
   ]
  },
  {
   "cell_type": "code",
   "execution_count": 15,
   "id": "1e138f41",
   "metadata": {},
   "outputs": [],
   "source": [
    "# get step stats for a group of legs\n",
    "all_legs = leg_combos['legs_all']\n",
    "legs = all_legs\n",
    "leg_data = {}\n",
    "\n",
    "for leg in legs:\n",
    "    leg_data[leg]={}\n",
    "    leg_data[leg]['stances'] = step_data[step_data.ref_leg == leg]['stance_time'].values\n",
    "    leg_data[leg]['swings'] = step_data[step_data.ref_leg == leg]['swing_time'].values"
   ]
  },
  {
   "cell_type": "code",
   "execution_count": 16,
   "id": "d94cde6a",
   "metadata": {},
   "outputs": [
    {
     "name": "stdout",
     "output_type": "stream",
     "text": [
      "L4 1.0385689655172412\n",
      "L3 1.1265789473684211\n",
      "L2 1.0879\n",
      "L1 0.9330416666666667\n",
      "R1 0.9485352112676055\n",
      "R2 1.1201833333333335\n",
      "R3 1.1173103448275863\n",
      "R4 1.0426206896551724\n"
     ]
    }
   ],
   "source": [
    "for leg in all_legs:\n",
    "    print(leg,np.mean(leg_data[leg]['stances']))"
   ]
  },
  {
   "cell_type": "code",
   "execution_count": 17,
   "id": "9cfc91d9",
   "metadata": {},
   "outputs": [],
   "source": [
    "# set up a figure and some axes\n",
    "def leg_plot(leg_data, legs_in_plot, rec_height = 0.8):\n",
    "    fig_width = 16\n",
    "    fig_height = 0.6 * len(legs_in_plot)\n",
    "    \n",
    "    y_levels = np.arange(len(legs_in_plot)) + 0.5\n",
    "    y_levels_for_legs = dict(zip(legs_in_plot,y_levels))\n",
    "\n",
    "    stance_color = [0.2,0.2,0.2]\n",
    "    swing_color = [0.9,0.9,0.9]\n",
    "    \n",
    "    (f, ax) = plt.subplots(1, figsize=(fig_width, fig_height))\n",
    "    \n",
    "    ax.set_yticks(y_levels)\n",
    "    ax.set_yticklabels(legs, fontsize=12)\n",
    "    plt.xticks(fontsize=12)\n",
    "    ax.set_xlim([-0.2,2])\n",
    "    buffer = rec_height/2 + 0.2\n",
    "    ax.set_ylim([np.min(y_levels)-buffer, np.max(y_levels)+buffer])\n",
    "    ax.set_ylabel('Legs', fontsize=16)\n",
    "    ax.set_xlabel('Time (sec)', fontsize=16)\n",
    "    \n",
    "    return f, ax, y_levels_for_legs, rec_height, stance_color, swing_color\n",
    "\n",
    "# plot stance and swing data on a figure\n",
    "def plot_stance_swing(f, ax, leg, leg_data, start_x, rec_height, stance_color, swing_color):\n",
    "    \n",
    "    stances = leg_data[leg]['stances']\n",
    "    swings = leg_data[leg]['swings']\n",
    "    \n",
    "    # add rectangle for stance\n",
    "    ax.add_patch(Rectangle((start_x, y_levels_for_legs[leg] - rec_height/2), np.mean(stances), rec_height, \n",
    "                           edgecolor='k', facecolor=stance_color, lw=1))\n",
    "\n",
    "    # add error bar for stance\n",
    "\n",
    "    # add rectangle for swing\n",
    "    ax.add_patch(Rectangle((start_x + np.mean(stances), y_levels_for_legs[leg] - rec_height/2), np.mean(swings), rec_height, \n",
    "                           edgecolor='k', facecolor=swing_color, lw=1))\n",
    "\n",
    "    # add error bar for swing\n",
    "\n",
    "    # add steps on either side of this one\n",
    "    gait_cycle = np.mean(stances) + np.mean(swings)\n",
    "    \n",
    "    # to left\n",
    "    left_start = start_x - gait_cycle\n",
    "    ax.add_patch(Rectangle((left_start, y_levels_for_legs[leg] - rec_height/2), np.mean(stances), rec_height, \n",
    "                           edgecolor='k', facecolor=stance_color, lw=1))\n",
    "    ax.add_patch(Rectangle((left_start + np.mean(stances), y_levels_for_legs[leg] - rec_height/2), \n",
    "                           np.mean(swings), rec_height, edgecolor='k', facecolor=swing_color, lw=1))\n",
    "    \n",
    "    left_start = start_x - 2 * gait_cycle\n",
    "    ax.add_patch(Rectangle((left_start, y_levels_for_legs[leg] - rec_height/2), np.mean(stances), rec_height, \n",
    "                           edgecolor='k', facecolor=stance_color, lw=1))\n",
    "    ax.add_patch(Rectangle((left_start + np.mean(stances), y_levels_for_legs[leg] - rec_height/2), \n",
    "                           np.mean(swings), rec_height, edgecolor='k', facecolor=swing_color, lw=1))\n",
    "    \n",
    "    # to right\n",
    "    right_start = start_x + gait_cycle\n",
    "    ax.add_patch(Rectangle((right_start, y_levels_for_legs[leg] - rec_height/2), np.mean(stances), rec_height, \n",
    "                           edgecolor='k', facecolor=stance_color, lw=1))\n",
    "    ax.add_patch(Rectangle((right_start + np.mean(stances), y_levels_for_legs[leg] - rec_height/2), \n",
    "                           np.mean(swings), rec_height, edgecolor='k', facecolor=swing_color, lw=1))\n",
    "    \n",
    "    right_start = start_x + 2 * gait_cycle\n",
    "    ax.add_patch(Rectangle((right_start, y_levels_for_legs[leg] - rec_height/2), np.mean(stances), rec_height, \n",
    "                           edgecolor='k', facecolor=stance_color, lw=1))\n",
    "    ax.add_patch(Rectangle((right_start + np.mean(stances), y_levels_for_legs[leg] - rec_height/2), \n",
    "                           np.mean(swings), rec_height, edgecolor='k', facecolor=swing_color, lw=1))\n",
    "    \n",
    "    return f, ax\n",
    "\n",
    "def get_mid_swing_timing(leg_1,leg_2):\n",
    "    \n",
    "    other_leg_mid_swing_col = leg_2 + '_mid_swings'\n",
    "    other_leg_mid_swing_strings = step_data[step_data.ref_leg==leg_1][other_leg_mid_swing_col].values\n",
    "\n",
    "    other_leg_mid_swing_data = [x.split(':')[1] for x in other_leg_mid_swing_strings]\n",
    "\n",
    "    mid_swing_timing = []\n",
    "\n",
    "    for item in other_leg_mid_swing_data:\n",
    "        if ';' in item:\n",
    "            stuff = [float(x) for x in item.split(';')]\n",
    "            mid_swing_timing.extend(stuff)\n",
    "        elif len(item)>0:\n",
    "            mid_swing_timing.append(float(item))\n",
    "\n",
    "    return(mid_swing_timing)\n",
    "\n",
    "def get_swing_leg_start(step_leg, swing_leg, mid_swing_timing):\n",
    "    mid_swing_timing = get_mid_swing_timing(step_leg, swing_leg)\n",
    "    mid_swing_time = np.mean(mid_swing_timing)\n",
    "    \n",
    "    # find start_x for this leg\n",
    "    # mid_swing_timing is expressed as % of gait_cycle of start leg\n",
    "    # convert to real time\n",
    "    mid_swing_secs = mid_swing_time * start_leg_gait_cycle\n",
    "    \n",
    "    # from this mid swing time, find start of gait cycle for other leg \n",
    "    # it will be mid_swing - half of swing - stance\n",
    "    swing_leg_stance = np.mean(leg_data[swing_leg]['stances'])\n",
    "    swing_leg_swing = np.mean(leg_data[swing_leg]['swings'])\n",
    "    \n",
    "    start_gait_leg =  mid_swing_secs - swing_leg_swing / 2 - swing_leg_stance\n",
    "    return start_gait_leg"
   ]
  },
  {
   "cell_type": "code",
   "execution_count": 20,
   "id": "eefb050f",
   "metadata": {},
   "outputs": [
    {
     "name": "stdout",
     "output_type": "stream",
     "text": [
      "start leg:  L3\n",
      "opposite leg:  R3\n",
      "other_lateral_legs ['L2', 'L1']\n",
      "other_opposite_legs ['R2', 'R1']\n"
     ]
    },
    {
     "data": {
      "image/png": "[encoded data removed]",
      "text/plain": [
       "<Figure size 1152x259.2 with 1 Axes>"
      ]
     },
     "metadata": {
      "needs_background": "light"
     },
     "output_type": "display_data"
    }
   ],
   "source": [
    "lateral_legs = leg_combos['legs_lateral']\n",
    "right_lateral = leg_combos['legs_right']\n",
    "left_lateral = leg_combos['legs_left']\n",
    "legs = lateral_legs\n",
    "\n",
    "start_leg = 'L3'\n",
    "if 'R' in start_leg:\n",
    "    opposite_leg = 'L' + start_leg[1]\n",
    "else:\n",
    "    opposite_leg = 'R' + start_leg[1]\n",
    "print('start leg: ', start_leg)\n",
    "print('opposite leg: ',opposite_leg)\n",
    "\n",
    "start_leg_stance = np.mean(leg_data[start_leg]['stances'])\n",
    "start_leg_swing = np.mean(leg_data[start_leg]['swings'])\n",
    "start_leg_gait_cycle = start_leg_stance + start_leg_swing\n",
    "\n",
    "# set up a figure\n",
    "f, ax, y_levels_for_legs, rec_height, stance_color, swing_color = leg_plot(leg_data,legs)\n",
    "\n",
    "# make a plot for starting leg\n",
    "start_gait = 0\n",
    "f, ax = plot_stance_swing(f, ax, start_leg, leg_data, start_gait, rec_height, stance_color, swing_color)\n",
    "\n",
    "# get ipsilateral and contralateral legs for starting leg\n",
    "if start_leg in lateral_legs:\n",
    "    if 'R' in start_leg:\n",
    "        other_lateral_legs = right_lateral.copy()\n",
    "        other_opposite_legs = left_lateral.copy()\n",
    "    else:\n",
    "        other_lateral_legs = left_lateral.copy()\n",
    "        other_opposite_legs = right_lateral.copy()\n",
    "other_lateral_legs.remove(start_leg)\n",
    "other_opposite_legs.remove(opposite_leg)\n",
    "print('other_lateral_legs', other_lateral_legs)\n",
    "print('other_opposite_legs', other_opposite_legs)\n",
    "\n",
    "# add other ipsilateral legs to plot ... this is good\n",
    "for ipsilateral_leg in other_lateral_legs:\n",
    "    mid_swing_timing = get_mid_swing_timing(start_leg, ipsilateral_leg)\n",
    "    start_gait_leg = get_swing_leg_start(start_leg, ipsilateral_leg, mid_swing_timing)  \n",
    "    f, ax = plot_stance_swing(f, ax, ipsilateral_leg, leg_data, start_gait_leg, \n",
    "                              rec_height, stance_color, swing_color)\n",
    "\n",
    "# add opposite leg to plot ... this is good\n",
    "mid_swing_timing = get_mid_swing_timing(start_leg, opposite_leg)\n",
    "start_gait_opposite_leg = get_swing_leg_start(start_leg, opposite_leg, mid_swing_timing)\n",
    "f, ax = plot_stance_swing(f, ax, opposite_leg, leg_data, start_gait_opposite_leg, \n",
    "                          rec_height, stance_color, swing_color)\n",
    "\n",
    "# add other contralateral legs to plot ... check ... use start_leg or opposite_leg to set timing?\n",
    "for contralateral_leg in other_opposite_legs:\n",
    "    mid_swing_timing = get_mid_swing_timing(opposite_leg, contralateral_leg)\n",
    "    start_gait_leg = get_swing_leg_start(opposite_leg, contralateral_leg, mid_swing_timing)\n",
    "    start_gait_leg += start_gait_opposite_leg\n",
    "    f, ax = plot_stance_swing(f, ax, contralateral_leg, leg_data, start_gait_leg, \n",
    "                              rec_height, stance_color, swing_color)\n",
    "\n",
    "right_lim = 1.5 * start_leg_gait_cycle\n",
    "left_lim = -0.5 * start_leg_gait_cycle\n",
    "# ax.set_xlim(-0.4215208333333333, 1.2645624999999998)\n",
    "ax.set_xlim(left_lim,right_lim)\n",
    "plt.title('Step Plots', fontsize=16)\n",
    "# plt.title(experiment_dir.replace('_',' '), fontsize=16)\n",
    "plt.savefig('step_plot.png',dpi=150)\n",
    "plt.show()"
   ]
  },
  {
   "cell_type": "code",
   "execution_count": 19,
   "id": "920087db",
   "metadata": {},
   "outputs": [
    {
     "name": "stdout",
     "output_type": "stream",
     "text": [
      "2.1122 -0.7040666666666667\n"
     ]
    }
   ],
   "source": [
    "print(right_lim, left_lim)"
   ]
  },
  {
   "cell_type": "code",
   "execution_count": null,
   "id": "33a0d9cb",
   "metadata": {},
   "outputs": [],
   "source": []
  }
 ],
 "metadata": {
  "kernelspec": {
   "display_name": "Python 3 (ipykernel)",
   "language": "python",
   "name": "python3"
  },
  "language_info": {
   "codemirror_mode": {
    "name": "ipython",
    "version": 3
   },
   "file_extension": ".py",
   "mimetype": "text/x-python",
   "name": "python",
   "nbconvert_exporter": "python",
   "pygments_lexer": "ipython3",
   "version": "3.8.9"
  }
 },
 "nbformat": 4,
 "nbformat_minor": 5
}
