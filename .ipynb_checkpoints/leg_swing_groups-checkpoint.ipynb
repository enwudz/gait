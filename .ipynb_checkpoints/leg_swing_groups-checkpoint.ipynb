{
 "cells": [
  {
   "cell_type": "raw",
   "id": "45df7418",
   "metadata": {},
   "source": [
    "Gait categories: \n",
    "\n",
    "    Tripod gait (3 legs swinging)\n",
    "        Tripod_canonical (swing = R1L2R3 & L1R2L3)\n",
    "        Tripod_other (any other combo of 3 legs down & 3 legs up)\n",
    "        \n",
    "    Tetrapod gait (2 legs swinging)\n",
    "        Tetrapod_canonical (swing = R1L2, R2L1, R2L3, L2R3, R3L1, L3R1)\n",
    "        Tetrapod_gallop (swing = R1L1, R2L2, R3L3)\n",
    "        Tetrapod_other (any other combo of 4 legs down & 2 legs up)\n",
    "        \n",
    "    Pentapod (1 leg swinging) ... Nirody calls this 'wave'\n",
    "    Stand (no legs swinging)\n",
    "    Other (4 or 5 legs swinging!)"
   ]
  },
  {
   "cell_type": "code",
   "execution_count": 1,
   "id": "7058b604",
   "metadata": {},
   "outputs": [],
   "source": [
    "from gait_analysis import *\n",
    "import os\n",
    "import cv2\n",
    "import numpy as np"
   ]
  },
  {
   "cell_type": "code",
   "execution_count": 2,
   "id": "7450f293",
   "metadata": {},
   "outputs": [
    {
     "data": {
      "text/plain": [
       "['2021_3iy_Fall',\n",
       " '2021_caffeine_Fall',\n",
       " '2021_ldopa_Fall',\n",
       " '3iy_July2022',\n",
       " 'alcohol_43mM_June2022',\n",
       " 'analyzed_movies',\n",
       " 'caffeine_20µM_June2022',\n",
       " 'comps',\n",
       " 'micrometer_vids',\n",
       " 'nicotine_100µM_July2022',\n",
       " 'noTreatment_noTreatment_July2022',\n",
       " 'old_code',\n",
       " 'species_comps_2021',\n",
       " 'wild_tardigrades_July2022']"
      ]
     },
     "execution_count": 2,
     "metadata": {},
     "output_type": "execute_result"
    }
   ],
   "source": [
    "# load data from experiments ... input is the path to a directory that has gait data\n",
    "# each experiment should be in a separate folder\n",
    "# each treatment within an experiment should be in a separate folder\n",
    "leg_combos = get_leg_combos()\n",
    "tardi_gait = '/Users/iwoods/ic_onedrive/tardi_gait'\n",
    "\n",
    "os.chdir(tardi_gait)\n",
    "listDirectories()"
   ]
  },
  {
   "cell_type": "code",
   "execution_count": 3,
   "id": "185c7ad8",
   "metadata": {},
   "outputs": [
    {
     "name": "stdout",
     "output_type": "stream",
     "text": [
      "looking in /Users/iwoods/ic_onedrive/tardi_gait/noTreatment_noTreatment_July2022\n",
      "control\n",
      "no_treatment\n"
     ]
    }
   ],
   "source": [
    "exp = 'noTreatment_noTreatment_July2022'\n",
    "exp_dir = os.path.join(tardi_gait, exp)\n",
    "os.chdir(exp_dir)\n",
    "\n",
    "# Get a list of available experiments in this directory\n",
    "print('looking in ' + exp_dir )\n",
    "\n",
    "dir_list = listDirectories()\n",
    "for d in dir_list:\n",
    "    print(d)"
   ]
  },
  {
   "cell_type": "code",
   "execution_count": 4,
   "id": "a4291b32",
   "metadata": {},
   "outputs": [
    {
     "name": "stdout",
     "output_type": "stream",
     "text": [
      "\n",
      "Choose from this list (separate by commas if multiple choices): \n",
      "1: 1a024-031\n",
      "2: 1a034-041\n",
      "3: 1a083-089\n",
      "4: 1a091-097\n",
      "5: 2a054-058\n",
      "6: 2a063-073\n",
      "7: 2a074-079\n",
      "8: 2a098-103\n",
      "9: 2a107-112\n",
      "10: 2a122-125\n",
      "11: 3a004-010\n",
      "12: 3a040-044\n",
      "13: 3a058-064\n",
      "14: 3a066-074\n",
      "15: 3a076-082\n",
      "16: 3a084-090\n",
      "17: 3a092-099\n",
      "18: 3a105-112\n",
      "19: select ALL\n",
      "\n",
      "Which number(s) do you want? 1,2,3,4\n",
      "You chose: 1a024-031 and 1a034-041 and 1a083-089 and 1a091-097\n",
      "Found 1a024-031/all_step_data_swings.csv\n",
      "Found 1a034-041/all_step_data_swings.csv\n",
      "Found 1a083-089/all_step_data_swings.csv\n",
      "Found 1a091-097/all_step_data_swings.csv\n"
     ]
    },
    {
     "data": {
      "text/html": [
       "<div>\n",
       "<style scoped>\n",
       "    .dataframe tbody tr th:only-of-type {\n",
       "        vertical-align: middle;\n",
       "    }\n",
       "\n",
       "    .dataframe tbody tr th {\n",
       "        vertical-align: top;\n",
       "    }\n",
       "\n",
       "    .dataframe thead th {\n",
       "        text-align: right;\n",
       "    }\n",
       "</style>\n",
       "<table border=\"1\" class=\"dataframe\">\n",
       "  <thead>\n",
       "    <tr style=\"text-align: right;\">\n",
       "      <th></th>\n",
       "      <th>ref_leg</th>\n",
       "      <th>down_time</th>\n",
       "      <th>up_time</th>\n",
       "      <th>stance_time</th>\n",
       "      <th>swing_time</th>\n",
       "      <th>gait_cycle</th>\n",
       "      <th>duty_factor</th>\n",
       "      <th>mid_swing</th>\n",
       "      <th>R4_mid_swings</th>\n",
       "      <th>R3_mid_swings</th>\n",
       "      <th>R2_mid_swings</th>\n",
       "      <th>R1_mid_swings</th>\n",
       "      <th>L1_mid_swings</th>\n",
       "      <th>L2_mid_swings</th>\n",
       "      <th>L3_mid_swings</th>\n",
       "      <th>L4_mid_swings</th>\n",
       "      <th>anterior_swing_start</th>\n",
       "      <th>contralateral_swing_start</th>\n",
       "      <th>clip</th>\n",
       "    </tr>\n",
       "  </thead>\n",
       "  <tbody>\n",
       "    <tr>\n",
       "      <th>0</th>\n",
       "      <td>R4</td>\n",
       "      <td>0.006</td>\n",
       "      <td>0.473</td>\n",
       "      <td>0.467</td>\n",
       "      <td>0.333</td>\n",
       "      <td>0.800</td>\n",
       "      <td>0.5838</td>\n",
       "      <td>0.6395</td>\n",
       "      <td>R4:0.7919</td>\n",
       "      <td>R3:</td>\n",
       "      <td>R2:</td>\n",
       "      <td>R1:</td>\n",
       "      <td>L1:</td>\n",
       "      <td>L2:</td>\n",
       "      <td>L3:</td>\n",
       "      <td>L4:</td>\n",
       "      <td>R3:</td>\n",
       "      <td>L4:</td>\n",
       "      <td>1a024-031</td>\n",
       "    </tr>\n",
       "    <tr>\n",
       "      <th>1</th>\n",
       "      <td>R4</td>\n",
       "      <td>0.806</td>\n",
       "      <td>1.240</td>\n",
       "      <td>0.434</td>\n",
       "      <td>0.501</td>\n",
       "      <td>0.935</td>\n",
       "      <td>0.4642</td>\n",
       "      <td>1.4905</td>\n",
       "      <td>R4:0.7321</td>\n",
       "      <td>R3:0.6075</td>\n",
       "      <td>R2:0.161</td>\n",
       "      <td>R1:0.8225</td>\n",
       "      <td>L1:0.3925</td>\n",
       "      <td>L2:</td>\n",
       "      <td>L3:0.0182;0.9824</td>\n",
       "      <td>L4:0.2321</td>\n",
       "      <td>R3:0.4642</td>\n",
       "      <td>L4:0.0717</td>\n",
       "      <td>1a024-031</td>\n",
       "    </tr>\n",
       "    <tr>\n",
       "      <th>2</th>\n",
       "      <td>R4</td>\n",
       "      <td>1.741</td>\n",
       "      <td>2.175</td>\n",
       "      <td>0.434</td>\n",
       "      <td>0.333</td>\n",
       "      <td>0.767</td>\n",
       "      <td>0.5658</td>\n",
       "      <td>2.3415</td>\n",
       "      <td>R4:0.7829</td>\n",
       "      <td>R3:</td>\n",
       "      <td>R2:0.3044</td>\n",
       "      <td>R1:</td>\n",
       "      <td>L1:0.7177</td>\n",
       "      <td>L2:0.3051</td>\n",
       "      <td>L3:</td>\n",
       "      <td>L4:0.3259</td>\n",
       "      <td>R3:0.957</td>\n",
       "      <td>L4:0.1304</td>\n",
       "      <td>1a024-031</td>\n",
       "    </tr>\n",
       "  </tbody>\n",
       "</table>\n",
       "</div>"
      ],
      "text/plain": [
       "  ref_leg  down_time  up_time  stance_time  swing_time  gait_cycle  \\\n",
       "0      R4      0.006    0.473        0.467       0.333       0.800   \n",
       "1      R4      0.806    1.240        0.434       0.501       0.935   \n",
       "2      R4      1.741    2.175        0.434       0.333       0.767   \n",
       "\n",
       "   duty_factor  mid_swing R4_mid_swings R3_mid_swings R2_mid_swings  \\\n",
       "0       0.5838     0.6395     R4:0.7919           R3:           R2:   \n",
       "1       0.4642     1.4905     R4:0.7321     R3:0.6075      R2:0.161   \n",
       "2       0.5658     2.3415     R4:0.7829           R3:     R2:0.3044   \n",
       "\n",
       "  R1_mid_swings L1_mid_swings L2_mid_swings     L3_mid_swings L4_mid_swings  \\\n",
       "0           R1:           L1:           L2:               L3:           L4:   \n",
       "1     R1:0.8225     L1:0.3925           L2:  L3:0.0182;0.9824     L4:0.2321   \n",
       "2           R1:     L1:0.7177     L2:0.3051               L3:     L4:0.3259   \n",
       "\n",
       "  anterior_swing_start contralateral_swing_start       clip  \n",
       "0                  R3:                       L4:  1a024-031  \n",
       "1            R3:0.4642                 L4:0.0717  1a024-031  \n",
       "2             R3:0.957                 L4:0.1304  1a024-031  "
      ]
     },
     "execution_count": 4,
     "metadata": {},
     "output_type": "execute_result"
    }
   ],
   "source": [
    "# select an experiment to analyze, and then select clips from that experiment\n",
    "treatment_dir = 'no_treatment'\n",
    "\n",
    "# LOOK IN MULTIPLE FOLDERS AND COMBINE DATA\n",
    "fname = 'all_step_data_swings.csv' # created by the script save_step_data.py\n",
    "step_data = experimentToDf(treatment_dir,fname)\n",
    "clips = sorted(list(set(step_data['clip'].values)))\n",
    "step_data.head(3)"
   ]
  },
  {
   "cell_type": "code",
   "execution_count": 10,
   "id": "b7d04d76",
   "metadata": {},
   "outputs": [
    {
     "data": {
      "image/png": "[encoded data removed]",
      "text/plain": [
       "<Figure size 432x360 with 1 Axes>"
      ]
     },
     "metadata": {
      "needs_background": "light"
     },
     "output_type": "display_data"
    }
   ],
   "source": [
    "# given a list of clip folders\n",
    "#    make a list of dictionaries of leg_swing_combo counts\n",
    "#    plot a bar graph for each dictionary!\n",
    "\n",
    "movie_folders = [os.path.join(tardi_gait, exp_dir, treatment_dir, x) for x in clips]\n",
    "legs = np.array(leg_combos['legs_lateral'])\n",
    "dict_list = [get_leg_swing_combos(clip, legs) for clip in movie_folders]\n",
    "f, ax = gait_style_plot(dict_list, clips)\n",
    "plt.show()"
   ]
  },
  {
   "cell_type": "code",
   "execution_count": 11,
   "id": "fa6e59b4",
   "metadata": {},
   "outputs": [
    {
     "name": "stdout",
     "output_type": "stream",
     "text": [
      "[{'stand': 24, 'tripod_canonical': 22, 'pentapod': 100, 'tetrapod_canonical': 56, 'tetrapod_other': 8, 'tetrapod_gallop': 12}, {'stand': 13, 'tetrapod_canonical': 71, 'pentapod': 93, 'tetrapod_other': 19, 'tripod_canonical': 7, 'tetrapod_gallop': 10}, {'stand': 22, 'tetrapod_other': 26, 'tetrapod_canonical': 45, 'tripod_other': 3, 'pentapod': 81, 'tetrapod_gallop': 12, 'tripod_canonical': 4}, {'stand': 19, 'tripod_canonical': 26, 'tetrapod_canonical': 59, 'pentapod': 71, 'tetrapod_other': 10, 'tripod_other': 1, 'tetrapod_gallop': 2}]\n"
     ]
    }
   ],
   "source": [
    "print(dict_list)"
   ]
  },
  {
   "cell_type": "code",
   "execution_count": null,
   "id": "106ed042",
   "metadata": {},
   "outputs": [],
   "source": []
  },
  {
   "cell_type": "code",
   "execution_count": null,
   "id": "d144f92a",
   "metadata": {},
   "outputs": [],
   "source": []
  },
  {
   "cell_type": "markdown",
   "id": "da64627d",
   "metadata": {},
   "source": [
    "# OLD"
   ]
  },
  {
   "cell_type": "markdown",
   "id": "a1d611ad",
   "metadata": {},
   "source": [
    "# make a plot of steps and swings, \n",
    "# with color code gait style below"
   ]
  },
  {
   "cell_type": "code",
   "execution_count": 8,
   "id": "d4791443",
   "metadata": {},
   "outputs": [],
   "source": [
    "# # choose ONE clip to analyze\n",
    "# data_dir = data_dir_1\n",
    "# os.chdir(os.path.join(main_dir,exp_dir,data_dir))\n",
    "# clip_folder = selectOneFromList(listDirectories())\n",
    "# mov_data = os.path.join(clip_folder, 'mov_data.txt')\n",
    "# # get step times for each leg for which we have data\n",
    "# up_down_times, latest_event = getUpDownTimes(mov_data)\n",
    "# # quality control on up_down_times\n",
    "# qcUpDownTimes(up_down_times)\n",
    "# # plot steps - choose which legs to plot\n",
    "# legs = get_leg_combos()['legs_lateral']  # dictionary of all combos\n",
    "# # legs = ['L4','R4'] # to manually choose sets of lets\n",
    "\n",
    "# frame_times = get_frame_times(clip_folder)"
   ]
  },
  {
   "cell_type": "code",
   "execution_count": 9,
   "id": "6cc56554",
   "metadata": {},
   "outputs": [
    {
     "ename": "NameError",
     "evalue": "name 'frame_times' is not defined",
     "output_type": "error",
     "traceback": [
      "\u001b[0;31m---------------------------------------------------------------------------\u001b[0m",
      "\u001b[0;31mNameError\u001b[0m                                 Traceback (most recent call last)",
      "Input \u001b[0;32mIn [9]\u001b[0m, in \u001b[0;36m<module>\u001b[0;34m\u001b[0m\n\u001b[1;32m      1\u001b[0m \u001b[38;5;66;03m# trim frame_times to only include frames up to last recorded event\u001b[39;00m\n\u001b[0;32m----> 2\u001b[0m last_event_frame \u001b[38;5;241m=\u001b[39m np\u001b[38;5;241m.\u001b[39mmin(np\u001b[38;5;241m.\u001b[39mwhere(\u001b[43mframe_times\u001b[49m \u001b[38;5;241m>\u001b[39m latest_event\u001b[38;5;241m*\u001b[39m\u001b[38;5;241m1000\u001b[39m))\n\u001b[1;32m      3\u001b[0m frame_times_with_events \u001b[38;5;241m=\u001b[39m frame_times[:last_event_frame]\n\u001b[1;32m      5\u001b[0m \u001b[38;5;66;03m# get leg matrix\u001b[39;00m\n",
      "\u001b[0;31mNameError\u001b[0m: name 'frame_times' is not defined"
     ]
    }
   ],
   "source": [
    "# trim frame_times to only include frames up to last recorded event\n",
    "last_event_frame = np.min(np.where(frame_times > latest_event*1000))\n",
    "frame_times_with_events = frame_times[:last_event_frame]\n",
    "\n",
    "# get leg matrix\n",
    "leg_matrix = make_leg_matrix(legs, up_down_times, frame_times_with_events)\n",
    "legs = np.array(legs)\n",
    "print(np.shape(leg_matrix))"
   ]
  },
  {
   "cell_type": "code",
   "execution_count": null,
   "id": "771c1b12",
   "metadata": {},
   "outputs": [],
   "source": [
    "# get colors for different leg combos ... stupidly\n",
    "def get_leg_combo_colors():\n",
    "    \n",
    "    swing_categories = get_swing_categories() # this is 'contralateral pairs' etc.\n",
    "    plot_colors = get_plot_colors(len(swing_categories))\n",
    "    swing_category_colors = dict(zip(categories, plot_colors))\n",
    "    \n",
    "    leg_combo_colors = {}\n",
    "    leg_combo_colors['stand'] = swing_category_colors['stand']\n",
    "    leg_combo_colors['other'] = swing_category_colors['other']\n",
    "    for category in swing_categories['contralateral adjacents']:\n",
    "        leg_combo_colors[category] = swing_category_colors['tetrapod']\n",
    "    for category in swing_categories['contralateral pairs']:\n",
    "        leg_combo_colors[category] = swing_category_colors['gallop']\n",
    "    for category in swing_categories['ipsilateral adjacents']:\n",
    "        leg_combo_colors[category] = swing_category_colors['other']\n",
    "    for category in swing_categories['ipsilateral skips']:\n",
    "        leg_combo_colors[category] = swing_category_colors['other']\n",
    "    for category in swing_categories['single legs']:\n",
    "        leg_combo_colors[category] = swing_category_colors['pentapod']\n",
    "    for category in swing_categories['tripod']:\n",
    "        leg_combo_colors[category] = swing_category_colors['tripod']\n",
    "    for category in swing_categories['no legs']:\n",
    "        leg_combo_colors[category] = swing_category_colors['stand']\n",
    "    return leg_combo_colors\n",
    "\n",
    "# make a vector of COLORS from swings in leg matrix ... stupidly\n",
    "def make_swing_color_vector(leg_matrix, leg_combo_colors):\n",
    "\n",
    "    swing_color_vector = []\n",
    "\n",
    "    for col_ind in np.arange(np.shape(leg_matrix)[1]):\n",
    "        one_indices = np.where(leg_matrix[:, col_ind] == 1)\n",
    "        swinging_legs = legs[one_indices]\n",
    "        swinging_leg_key = '_'.join(sorted(swinging_legs))\n",
    "        if len(swinging_leg_key) > 0:\n",
    "            if swinging_leg_key in leg_combo_colors.keys():\n",
    "                swing_color_vector.append(leg_combo_colors[swinging_leg_key])\n",
    "            else: \n",
    "                swing_color_vector.append(leg_combo_colors['other'])\n",
    "        else:\n",
    "            swing_color_vector.append(leg_combo_colors['stand'])\n",
    "            \n",
    "    return swing_color_vector"
   ]
  },
  {
   "cell_type": "code",
   "execution_count": null,
   "id": "100295a4",
   "metadata": {},
   "outputs": [],
   "source": [
    "swing_color_vector = make_swing_color_vector(leg_matrix, get_leg_combo_colors())\n",
    "\n",
    "# this takes a bit . . . (10 s) ... see below for another approach (messier, maybe quicker?)\n",
    "\n",
    "step_color = [0.95, 0.95, 0.95]\n",
    "swing_color = [0, 0, 0]\n",
    "\n",
    "# definitions for the axes\n",
    "# left, bottom, width, height\n",
    "rect_steps = [0.07, 0.07,  1, 0.6]\n",
    "rect_gaits = [0.07, 0.70,  1, 0.1]\n",
    "\n",
    "stepplot_colors = {1:swing_color, 0: step_color}\n",
    "gait_x = frame_times_with_events/1000\n",
    "\n",
    "fig_height = int(len(legs) * 0.7)\n",
    "fig = plt.figure(figsize=(10,fig_height))\n",
    "steps = plt.axes(rect_steps)\n",
    "\n",
    "bar_width = gait_x[1] - gait_x[0]                 \n",
    "\n",
    "for i, leg in enumerate(legs):\n",
    "    for j, x in enumerate(gait_x):\n",
    "        steps.barh(i+1, bar_width, height=1, left=j*bar_width, \n",
    "                color = stepplot_colors[leg_matrix[i, j]])\n",
    "\n",
    "steps.set_ylim([0.5, len(legs)+0.5])\n",
    "steps.set_xlabel('Time (sec)', fontsize=16)\n",
    "steps.set_yticks(np.arange(len(legs))+1)\n",
    "steps.set_yticklabels(legs, fontsize=16)\n",
    "steps.set_ylabel('legs', fontsize=16)\n",
    "steps.set_frame_on(False)\n",
    "\n",
    "gaits = plt.axes(rect_gaits)\n",
    "\n",
    "for i,x in enumerate(gait_x):\n",
    "    gaits.barh(1, bar_width, height=0.8, left=i*bar_width, color = swing_color_vector[i])\n",
    "\n",
    "gaits.set_ylabel('gait', fontsize=16)\n",
    "\n",
    "gaits.set_xlim([0, gait_x[-1]])\n",
    "steps.set_xlim([0, gait_x[-1]])\n",
    "\n",
    "gaits.set_yticks([])\n",
    "gaits.set_xticks([])\n",
    "gaits.set_frame_on(False)\n",
    "\n",
    "plt.show()"
   ]
  },
  {
   "cell_type": "code",
   "execution_count": null,
   "id": "b2f5c118",
   "metadata": {},
   "outputs": [],
   "source": [
    "# trying a different way to plot these bars . . . \n",
    "\n",
    "# print(len(swing_color_vector))\n",
    "# test_slice = swing_color_vector\n",
    "# gait_x = frame_times_with_events/1000\n",
    "# bar_width = gait_x[1] - gait_x[0]\n",
    "\n",
    "# # print(test_slice)\n",
    "# i = 0\n",
    "# current_col = test_slice[0]\n",
    "# working_slice = test_slice\n",
    "# left_edge = 0\n",
    "\n",
    "# while len(working_slice) > 0:\n",
    "#     # check to see if more than one kind of thing in working array\n",
    "#     if len(np.unique(working_slice)) > 1:\n",
    "#         next_color_ind = np.where(working_slice != current_col)[0][0]\n",
    "#         plotting_slice = working_slice[:next_color_ind]\n",
    "#         working_slice = working_slice[next_color_ind:]\n",
    "#         current_col = working_slice[0]        \n",
    "#     else:\n",
    "#         plotting_slice = working_slice\n",
    "#         working_slice = []\n",
    "        \n",
    "#     plt.barh(1, len(plotting_slice) * bar_width, height = 0.8, left = left_edge, color = plotting_slice[0])\n",
    "#     left_edge += len(plotting_slice) * bar_wid"
   ]
  },
  {
   "cell_type": "code",
   "execution_count": null,
   "id": "7b08ff02",
   "metadata": {},
   "outputs": [],
   "source": []
  },
  {
   "cell_type": "code",
   "execution_count": null,
   "id": "a1ea7333",
   "metadata": {},
   "outputs": [],
   "source": []
  }
 ],
 "metadata": {
  "kernelspec": {
   "display_name": "Python 3 (ipykernel)",
   "language": "python",
   "name": "python3"
  },
  "language_info": {
   "codemirror_mode": {
    "name": "ipython",
    "version": 3
   },
   "file_extension": ".py",
   "mimetype": "text/x-python",
   "name": "python",
   "nbconvert_exporter": "python",
   "pygments_lexer": "ipython3",
   "version": "3.8.9"
  }
 },
 "nbformat": 4,
 "nbformat_minor": 5
}
