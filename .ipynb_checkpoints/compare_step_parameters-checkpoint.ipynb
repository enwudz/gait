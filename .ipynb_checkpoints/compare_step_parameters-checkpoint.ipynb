{
 "cells": [
  {
   "cell_type": "raw",
   "metadata": {},
   "source": [
    "This notebook will take data from one movie clip or will combine several clips, and make some plots to summarize step parameters\n",
    "\n",
    "To run this notebook, we need the file all_step_data_swings.csv for each clip. \n",
    "    all_step_data_swings.csv is created by the script save_step_data.py\n",
    "    See the script (save_step_data.py) for details"
   ]
  },
  {
   "cell_type": "code",
   "execution_count": null,
   "metadata": {
    "scrolled": true
   },
   "outputs": [],
   "source": [
    "import pandas as pd\n",
    "import numpy as np\n",
    "import matplotlib.pyplot as plt\n",
    "from matplotlib.patches import Rectangle\n",
    "from gait_analysis import *\n",
    "import os\n",
    "from scipy.stats import sem"
   ]
  },
  {
   "cell_type": "code",
   "execution_count": null,
   "metadata": {},
   "outputs": [],
   "source": [
    "# load data from experiments ... input is the path to a directory that has gait data\n",
    "# each experiment should be in a separate folder\n",
    "# each treatment within an experiment should be in a separate folder\n",
    "tardi_gait = '/Users/iwoods/ic_onedrive/tardi_gait'\n",
    "os.chdir(tardi_gait)\n",
    "for d in listDirectories():\n",
    "    print(d)"
   ]
  },
  {
   "cell_type": "code",
   "execution_count": null,
   "metadata": {
    "scrolled": true
   },
   "outputs": [],
   "source": [
    "exp = 'caffeine_20µM_June2022'\n",
    "exp_dir = os.path.join(tardi_gait, exp)\n",
    "os.chdir(exp_dir)\n",
    "\n",
    "# Get a list of available experiments in this directory\n",
    "print('looking in ' + exp_dir )\n",
    "\n",
    "for d in listDirectories():\n",
    "    print(d)"
   ]
  },
  {
   "cell_type": "code",
   "execution_count": null,
   "metadata": {
    "scrolled": true
   },
   "outputs": [],
   "source": [
    "# choose which folders to compare\n",
    "groupA = 'control'\n",
    "groupB = 'caffeine_20µM'\n",
    "fname = 'all_step_data_swings.csv' # created by the script save_step_data.py"
   ]
  },
  {
   "cell_type": "code",
   "execution_count": null,
   "metadata": {
    "scrolled": true
   },
   "outputs": [],
   "source": [
    "# treatment 1: select experiment(s) to analyze\n",
    "# look for all_step_data_swings.csv in one or more folders, and combine data\n",
    "df1 = experimentToDf(groupA,fname)\n",
    "print('DF size',df1.shape)\n",
    "\n",
    "# look for mov_data.txt in one or more folders, and parse to get size and speed for these clips\n",
    "clips1 = np.unique(df1['clip'])\n",
    "size_speed_1 = sizeAndSpeed(groupA, clips1)\n",
    "\n",
    "df1[df1.ref_leg=='R3'].head(3)"
   ]
  },
  {
   "cell_type": "code",
   "execution_count": null,
   "metadata": {},
   "outputs": [],
   "source": [
    "# treatment 1: select experiment(s) to analyze\n",
    "# look for all_step_data_swings.csv in one or more folders, and combine data\n",
    "df2 = experimentToDf(groupB,fname)\n",
    "print('DF size',df2.shape)\n",
    "\n",
    "# look for mov_data.txt in one or more folders, and parse to get size and speed for these clips\n",
    "clips2 = np.unique(df2['clip'])\n",
    "size_speed_2 = sizeAndSpeed(groupB, clips2)\n",
    "\n",
    "df2[df2.ref_leg=='R3'].head(3)"
   ]
  },
  {
   "cell_type": "code",
   "execution_count": null,
   "metadata": {},
   "outputs": [],
   "source": [
    "# how many tardigrades in each group?\n",
    "tardigrades_in_clip1 = np.unique(sorted([individualFromClipname(clipname) for clipname in clips1]))\n",
    "print('Group 1 has ' + str(len(tardigrades_in_clip1)) + ' individual(s): ' + ', '.join(tardigrades_in_clip1))\n",
    "tardigrades_in_clip1 = [int(x) for x in tardigrades_in_clip1]\n",
    "\n",
    "tardigrades_in_clip2 = np.unique(sorted([individualFromClipname(clipname) for clipname in clips2]))\n",
    "print('Group 2 has ' + str(len(tardigrades_in_clip2)) + ' individual(s): ' + ', '.join(tardigrades_in_clip2))\n",
    "tardigrades_in_clip2 = [int(x) for x in tardigrades_in_clip2]"
   ]
  },
  {
   "cell_type": "code",
   "execution_count": null,
   "metadata": {},
   "outputs": [],
   "source": [
    "# compare step parameters for a group of legs\n",
    "\n",
    "# which legs should we compare?\n",
    "legs_to_comp = get_leg_combos()['legs_lateral'] # usually 'legs_lateral' or 'legs_4'\n",
    "groups = [groupA, groupB]\n",
    "\n",
    "# what type of comparison should we do?\n",
    "if len(tardigrades_in_clip1) == 1 and len(tardigrades_in_clip2) == 1:\n",
    "    # if 1 tardigrade in each group\n",
    "    # do compare_step_parameters plot\n",
    "    print('\\nOne tardigrade in each group, doing compare_step_parameters plot\\n')\n",
    "    compare_step_parameters([groupA, groupB], [df1, df2], legs_to_comp)\n",
    "else:\n",
    "    # if > 1 tardigrades in each group, do paired comparison plots\n",
    "    # make sure that same tardigrades are in each group\n",
    "    if tardigrades_in_clip1 == tardigrades_in_clip2:\n",
    "        print('Same tardigrades in each group, doing paired comparison plots')\n",
    "        parameters = ['tardigrade_area', 'tardigrade_speed', 'stance_time', \n",
    "                      'swing_time', 'gait_cycle', 'duty_factor', 'gait_efficiency']\n",
    "#         parameters = ['stance_time','swing_time', 'gait_cycle', 'duty_factor']\n",
    "        tardigrade_data = get_paired_step_parameters(parameters, legs_to_comp, \n",
    "                                                     [groupA, groupB], [df1, df2], [size_speed_1, size_speed_2])\n",
    "    else:\n",
    "        print('Different tardigrades in these groups ... paired comparisons not appropriate')\n",
    "        \n",
    "# print(tardigrade_data)\n",
    "paired_comparison_plot(parameters, tardigrade_data, groups)"
   ]
  },
  {
   "cell_type": "code",
   "execution_count": null,
   "metadata": {},
   "outputs": [],
   "source": [
    "# gait styles\n",
    "# compare 1-3\n",
    "#     charts like those above where we compare each tardigrade pre and post treatment\n",
    "#     compare % time in (canonical?) tripod, in (canonical?) tetrapod, in pentapod, in stand\n",
    "    \n",
    "# compare 4\n",
    "#     charts like those above where we compare tardigrade pre and post treatment\n",
    "#     compare % time in stand, step, hop"
   ]
  },
  {
   "cell_type": "code",
   "execution_count": null,
   "metadata": {},
   "outputs": [],
   "source": [
    "# given a list of clip folders\n",
    "#    make a list of dictionaries of leg_swing_combo counts\n",
    "#    plot a bar graph for each dictionary!\n",
    "\n",
    "clip_folders1 = sorted(list(set(df1['clip'].values)))\n",
    "clip_folders2 = sorted(list(set(df2['clip'].values)))\n",
    "\n",
    "movie_folders1 = [os.path.join(tardi_gait, exp_dir, groupA, x) for x in clip_folders1]\n",
    "movie_folders2 = [os.path.join(tardi_gait, exp_dir, groupB, x) for x in clip_folders2]\n",
    "\n",
    "leg_set = 'lateral'\n",
    "leg_swing_combos1 = [get_leg_swing_combos(clip, leg_set) for clip in movie_folders1]\n",
    "combined_leg_swing_combos1 = combineDictionariesWithCommonKeys(leg_swing_combos1)\n",
    "\n",
    "leg_swing_combos2 = [get_leg_swing_combos(clip, leg_set) for clip in movie_folders2]\n",
    "combined_leg_swing_combos2 = combineDictionariesWithCommonKeys(leg_swing_combos2)\n",
    "\n",
    "f, ax = gait_style_plot([combined_leg_swing_combos1, combined_leg_swing_combos2], \n",
    "                        ['control', 'no_treatment'], \n",
    "                        leg_set)\n",
    "plt.show()"
   ]
  },
  {
   "cell_type": "code",
   "execution_count": null,
   "metadata": {},
   "outputs": [],
   "source": [
    "leg_set = 'rear'\n",
    "leg_swing_combos1 = [get_leg_swing_combos(clip, leg_set) for clip in movie_folders1]\n",
    "combined_leg_swing_combos1 = combineDictionariesWithCommonKeys(leg_swing_combos1)\n",
    "\n",
    "leg_swing_combos2 = [get_leg_swing_combos(clip, leg_set) for clip in movie_folders2]\n",
    "combined_leg_swing_combos2 = combineDictionariesWithCommonKeys(leg_swing_combos2)\n",
    "\n",
    "f, ax = gait_style_plot([combined_leg_swing_combos1, combined_leg_swing_combos2], \n",
    "                        ['control', 'no_treatment'], \n",
    "                        leg_set)\n",
    "plt.show()"
   ]
  },
  {
   "cell_type": "code",
   "execution_count": null,
   "metadata": {},
   "outputs": [],
   "source": [
    "# gait style: compare groups in paired plots\n",
    "# for each tardigrade, show % of time in Tetrapod? Tripod? Pentapod? Stand?\n"
   ]
  }
 ],
 "metadata": {
  "kernelspec": {
   "display_name": "Python 3 (ipykernel)",
   "language": "python",
   "name": "python3"
  },
  "language_info": {
   "codemirror_mode": {
    "name": "ipython",
    "version": 3
   },
   "file_extension": ".py",
   "mimetype": "text/x-python",
   "name": "python",
   "nbconvert_exporter": "python",
   "pygments_lexer": "ipython3",
   "version": "3.8.9"
  },
  "vscode": {
   "interpreter": {
    "hash": "aee8b7b246df8f9039afb4144a1f6fd8d2ca17a180786b69acc140d282b71a49"
   }
  }
 },
 "nbformat": 4,
 "nbformat_minor": 4
}
