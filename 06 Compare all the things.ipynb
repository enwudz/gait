{
 "cells": [
  {
   "cell_type": "code",
   "execution_count": null,
   "id": "3847ba3c",
   "metadata": {},
   "outputs": [],
   "source": [
    "import pandas as pd\n",
    "import numpy as np\n",
    "import matplotlib.pyplot as plt\n",
    "import matplotlib as mpl\n",
    "import os\n",
    "import glob\n",
    "import seaborn as sns\n",
    "from scipy import stats\n",
    "import cv2\n",
    "gait_dir = '/Users/iwoods/Documents/GitHub/gait/'\n",
    "this_dir = os.getcwd()\n",
    "os.chdir(gait_dir)\n",
    "import gaitFunctions\n",
    "import combineClips\n",
    "import plotClip\n",
    "os.chdir(this_dir)\n",
    "def meanstdstr(vals):\n",
    "    return str(np.round(np.mean(vals),2)) + ' ± ' + str(np.round(np.std(vals),2))"
   ]
  },
  {
   "cell_type": "code",
   "execution_count": null,
   "id": "e667d107",
   "metadata": {},
   "outputs": [],
   "source": [
    "# plot colors and parameters\n",
    "axis_fontsize=11\n",
    "tick_fontsize=9\n",
    "\n",
    "# colors for step kinematics\n",
    "stance_color = '#5656ff'\n",
    "swing_color = '#e1e813'\n",
    "duty_color = '#4d4d4d'\n",
    "ipsi_color = 'tab:red'\n",
    "contra_color = 'tab:green'\n",
    "\n",
    "# colors for legs\n",
    "first_pair_color = '#b45eff' # lavender\n",
    "first_pair_color_alt = '#661f99' # purple\n",
    "second_pair_color = '#006f2a' # green\n",
    "second_pair_color_alt = '#02db55' # light green\n",
    "third_pair_color = '#ffd500' # yellow\n",
    "third_pair_color_alt = '#fa9805' # orange\n",
    "rear_leg_color = '#00b6eb'# light blue\n",
    "rear_leg_color_alt = '#0010eb' # dark blue\n",
    "\n",
    "# scatter marker size and alpha\n",
    "marker_size = 10\n",
    "marker_alpha = 0.7\n",
    "marker_color = 'k'"
   ]
  },
  {
   "cell_type": "markdown",
   "id": "2ebb0b35",
   "metadata": {},
   "source": [
    "# Option 1: Select the folders to include in the analysis ... (or see below)"
   ]
  },
  {
   "cell_type": "code",
   "execution_count": null,
   "id": "04256903",
   "metadata": {},
   "outputs": [],
   "source": [
    "# navigate to directory that contains the data\n",
    "main_dir = '/Users/iwoods/OneDrive - Ithaca College/2024_movement_disorder_paper/videos_wild/'\n",
    "os.chdir(main_dir)\n",
    "# list directories within this directory\n",
    "dirs = []\n",
    "for dirname, dirnames, filenames in os.walk('.'):\n",
    "    # print path to all subdirectories first.\n",
    "    for subdirname in dirnames:\n",
    "        folder = os.path.join(dirname, subdirname).split('/')[1]\n",
    "        if folder not in dirs:\n",
    "            dirs.append(folder)\n",
    "dirs = np.sort(np.unique(np.array(dirs)))\n",
    "dirs = [x for x in dirs if 'ramazzottius' in x.lower()] # change to babies or adults or ramazzottius or disulfiram\n",
    "folders_in_analysis = gaitFunctions.selectMultipleFromList(dirs) "
   ]
  },
  {
   "cell_type": "markdown",
   "id": "a8acb3d5",
   "metadata": {},
   "source": [
    "# Option 2: Manually select the folders"
   ]
  },
  {
   "cell_type": "code",
   "execution_count": null,
   "id": "fe373d75",
   "metadata": {},
   "outputs": [],
   "source": [
    "main_dir = '/Users/iwoods/OneDrive - Ithaca College/2024_movement_disorder_paper/'\n",
    "base_dir = '/Users/iwoods/Library/CloudStorage/OneDrive-IthacaCollege/2024_movement_disorder_paper/'\n",
    "folders_in_analysis = [base_dir + 'videos_wild/ramazzottius_14Sep23',\n",
    "                       base_dir + 'videos_wild/ramazzottius_21Sep23',\n",
    "                       base_dir + 'videos_exemplaris/iw_11Dec23_exemplaris_inverted',\n",
    "                       base_dir + 'videos_exemplaris/iw_18Jan24_exemplaris_inverted',\n",
    "                       base_dir + 'videos_exemplaris/iw_21Dec23_exemplaris_inverted',\n",
    "                       base_dir + 'videos_exemplaris/iw_9Nov23_exemplaris_inverted'\n",
    "]"
   ]
  },
  {
   "cell_type": "markdown",
   "id": "299b061b",
   "metadata": {},
   "source": [
    "# Load the data in the selected folders"
   ]
  },
  {
   "cell_type": "code",
   "execution_count": null,
   "id": "ee0482e7",
   "metadata": {},
   "outputs": [],
   "source": [
    "### in each folder, look for a 'combined' excel file and load (or append) it to a dataframe\n",
    "# if there is no 'combined' excel file, run combineClips and then load the file\n",
    "os.chdir(main_dir)\n",
    "\n",
    "path_summaries_df = pd.DataFrame()\n",
    "step_timing_df = pd.DataFrame()\n",
    "step_summaries_df = pd.DataFrame()\n",
    "gait_summaries_df = pd.DataFrame()\n",
    "gait_styles_speeds_df = pd.DataFrame()\n",
    "\n",
    "def appendDF(original,new):\n",
    "    if len(original) == 0:\n",
    "        original = new\n",
    "    else:\n",
    "        new = pd.concat([original, new])\n",
    "    return new\n",
    "\n",
    "for folder in folders_in_analysis:\n",
    "    os.chdir(folder)\n",
    "    combined_files = sorted(glob.glob('*combined*xlsx'))\n",
    "    if len(combined_files) == 0:\n",
    "        print('Combining .xlsx files in ' + folder)\n",
    "        pdf, stcdf, sdf, gdf, gssdf = combineClips.main(True)\n",
    "    elif len(combined_files) == 1:\n",
    "        excel_file = combined_files[0]\n",
    "        print('Found ' + combined_files[0])\n",
    "        \n",
    "        # read in data from this excel file\n",
    "        pdf = pd.read_excel(excel_file, sheet_name='path_summaries', index_col=None)\n",
    "        stdf = pd.read_excel(excel_file, sheet_name='step_timing', index_col=None)\n",
    "        sdf = pd.read_excel(excel_file, sheet_name='step_summaries', index_col=None)\n",
    "        gdf = pd.read_excel(excel_file, sheet_name='gait_summaries', index_col=None)\n",
    "        gssdf = pd.read_excel(excel_file, sheet_name='gait_speeds', index_col=None)\n",
    "        \n",
    "        # append to existing dataframe\n",
    "        path_summaries_df = appendDF(path_summaries_df, pdf)\n",
    "        step_timing_df = appendDF(step_timing_df, stdf)\n",
    "        step_summaries_df = appendDF(step_summaries_df, sdf)\n",
    "        gait_summaries_df = appendDF(gait_summaries_df, gdf)\n",
    "        gait_styles_speeds_df = appendDF(gait_styles_speeds_df, gssdf)\n",
    "    else:\n",
    "        print('Too many \"combined\" files in ' + folder)\n",
    "    os.chdir(main_dir)\n",
    "path_summaries_df.head(5)"
   ]
  },
  {
   "cell_type": "code",
   "execution_count": null,
   "id": "eb0f513f",
   "metadata": {},
   "outputs": [],
   "source": [
    "# see how many things are in the 'treatment' column ... may need to fix.\n",
    "print(np.unique(path_summaries_df.treatment.values))"
   ]
  },
  {
   "cell_type": "markdown",
   "id": "e4aa81bd",
   "metadata": {},
   "source": [
    "# Path Tracking"
   ]
  },
  {
   "cell_type": "code",
   "execution_count": null,
   "id": "361990dc",
   "metadata": {},
   "outputs": [],
   "source": [
    "print(path_summaries_df.columns)\n",
    "to_compare_path =[\n",
    "    'Body Size (mm^2)', \n",
    "    'Body Length (mm)',\n",
    "    'Body Width (mm)', \n",
    "    'Body Width/Length Ratio', \n",
    "    #'Duration analyzed (sec)',\n",
    "    #'Distance traveled (mm)', \n",
    "    'Percentage of time cruising',\n",
    "    'Speed (mm/sec)',\n",
    "    'Speed (body lengths / sec)', \n",
    "    'Speed (mm/sec cruising)', \n",
    "    'Speed (body lengths / sec cruising)',\n",
    "#     'Total bearing change (deg)', \n",
    "#     'Bearing change (deg) / sec',\n",
    "    'Bearing change (deg) / sec cruising', \n",
    "#     'Number of stops', \n",
    "    'Stops / sec',\n",
    "#     'Number of turns', \n",
    "    'Turns / sec']\n",
    "print(len(to_compare_path))"
   ]
  },
  {
   "cell_type": "code",
   "execution_count": null,
   "id": "5ad5802d",
   "metadata": {},
   "outputs": [],
   "source": [
    "def compBoxPlot(ax,df,col,numcomps): \n",
    "\n",
    "    groupnames = sorted(np.unique(df.treatment.values))\n",
    "    \n",
    "    # rearrange groupnames so 'control' is first\n",
    "    if 'control' in groupnames:\n",
    "#         print('Rearranging group so control is first!')\n",
    "        ind = groupnames.index('control')\n",
    "        control = groupnames.pop(ind)\n",
    "        groupnames.insert(0, control)\n",
    "    \n",
    "    # collect data\n",
    "    data_to_plot = []\n",
    "    for i,group in enumerate(groupnames):\n",
    "        thisdata = df[df.treatment == group][col].values\n",
    "        thisdata = thisdata[~np.isnan(thisdata)]\n",
    "        data_to_plot.append(thisdata)\n",
    "    \n",
    "    # make boxplot\n",
    "    bp = ax.boxplot(data_to_plot, patch_artist=True, showfliers=False)\n",
    "    bp = gaitFunctions.formatBoxPlots(bp, ['black'], ['whitesmoke'], ['dimgrey'])\n",
    "    \n",
    "    # add scatter over the boxplot\n",
    "    a = 1 # alpha\n",
    "    sc = 'silver' # [ 0.76, 0.86, 0.85 ] # 'k' # color\n",
    "    sz = 15 # marker size\n",
    "    ji = 0.05 # jitter around midline\n",
    "    for i, group in enumerate(groupnames):   \n",
    "        xScatter = np.random.normal(i+1, ji, size=len(data_to_plot[i]))\n",
    "        ax.scatter(xScatter, data_to_plot[i], s=sz, facecolors=sc, edgecolors=None , alpha = a, zorder = 2)\n",
    "    \n",
    "    # do some stats?\n",
    "    if len(data_to_plot) == 2:\n",
    "        pval = gaitFunctions.statsFromBoxData(data_to_plot, 'kw', False)[0]\n",
    "    \n",
    "    # add axes labels\n",
    "    ylab = col\n",
    "    if '^2' in ylab:\n",
    "        ylab = ylab.replace('^2','$^2$')\n",
    "    if '/ sec cruising' in ylab:\n",
    "        ylab = ylab.replace('/ sec', '/\\nsec')\n",
    "    if '(lateral' in ylab or '(rear' in ylab or '(normalized' in ylab:\n",
    "        ylab = ylab.replace('(','\\n(')\n",
    "    ax.set_ylabel(ylab)\n",
    "    ax.set_xticks(np.arange(len(groupnames))+1,groupnames)\n",
    "    \n",
    "    if pval < 0.05/numcomps:\n",
    "        fc = '#f7b0b0' # pinkish\n",
    "        print(col,pval)\n",
    "    elif pval < 0.05/(numcomps/2):\n",
    "        fc = '#fcca74' # orange-ish\n",
    "        print(col,pval)\n",
    "    elif pval < 0.05:\n",
    "        fc = '#f6f7a1' # yellow-ish\n",
    "    else:\n",
    "        fc = 'white'\n",
    "    \n",
    "    ax.set_facecolor(fc)\n",
    "\n",
    "    return ax\n",
    "\n",
    "f,ax = plt.subplots(1,1,figsize=(1.5,2))\n",
    "ax = compBoxPlot(ax,path_summaries_df,'Body Size (mm^2)',1)\n",
    "plt.show()\n"
   ]
  },
  {
   "cell_type": "code",
   "execution_count": null,
   "id": "28aeeca4",
   "metadata": {
    "scrolled": false
   },
   "outputs": [],
   "source": [
    "rows,cols = [3,4]\n",
    "f,axes = plt.subplots(rows,cols,figsize = (8,6))\n",
    "axes_list = axes.reshape(1,len(to_compare_path))[0]\n",
    "for i, col in enumerate(to_compare_path):\n",
    "    axes_list[i] = compBoxPlot(axes_list[i], path_summaries_df, col, len(to_compare_path))\n",
    "    axes_list[i].yaxis.label.set_size(tick_fontsize)\n",
    "    axes_list[i].tick_params(axis='both', which='major', labelsize=tick_fontsize)\n",
    "plt.tight_layout()\n",
    "plt.show()"
   ]
  },
  {
   "cell_type": "markdown",
   "id": "7e79c73e",
   "metadata": {},
   "source": [
    "# Step kinematics"
   ]
  },
  {
   "cell_type": "code",
   "execution_count": null,
   "id": "8cd6ebcf",
   "metadata": {},
   "outputs": [],
   "source": [
    "# print(step_summaries_df.columns)\n",
    "to_compare_steps = [\n",
    "    'Stance duration (lateral legs)', \n",
    "    'Swing duration (lateral legs)',\n",
    "    'Gait cycle (lateral legs)', \n",
    "    'Duty factor (lateral legs)',\n",
    "    'mm per step (lateral legs)', \n",
    "    'bodylength per step (lateral legs)',\n",
    "    'Stance duration (rear legs)', \n",
    "    'Swing duration (rear legs)',\n",
    "    'Gait cycle (rear legs)', \n",
    "    'Duty factor (rear legs)',\n",
    "    'mm per step (rear legs)', \n",
    "    'bodylength per step (rear legs)',\n",
    "#     'Metachronal lag (lateral legs)',\n",
    "#     'Metachronal lag (normalized, lateral legs)',\n",
    "    'Metachronal lag Left-Right Ratio',\n",
    "#     'Anterior swing offsets (lateral legs)',\n",
    "    'Anterior swing offsets (normalized, lateral legs)',\n",
    "#     'Opposite swing offsets (lateral legs)',\n",
    "    'Opposite swing offsets (normalized, lateral legs)',\n",
    "#     'Opposite swing offsets (rear legs)',\n",
    "    'Opposite swing offsets (normalized, rear legs)']\n",
    "print(len(to_compare_steps))"
   ]
  },
  {
   "cell_type": "code",
   "execution_count": null,
   "id": "a5effa34",
   "metadata": {},
   "outputs": [],
   "source": [
    "rows,cols = [4,4]\n",
    "f,axes = plt.subplots(rows,cols,figsize = (8.5,11))\n",
    "axes_list = axes.reshape(1,len(to_compare_steps))[0]\n",
    "for i, col in enumerate(to_compare_steps):\n",
    "    axes_list[i] = compBoxPlot(axes_list[i], step_summaries_df, col, len(to_compare_steps))\n",
    "    axes_list[i].yaxis.label.set_size(tick_fontsize)\n",
    "    axes_list[i].tick_params(axis='both', which='major', labelsize=tick_fontsize)\n",
    "plt.tight_layout()\n",
    "plt.show()"
   ]
  },
  {
   "cell_type": "markdown",
   "id": "789b1e15",
   "metadata": {},
   "source": [
    "# Speed and swing time\n",
    "For Disulfiram (or comparison where one group is slower),\n",
    "<br> the swing duration (and stance duration) could be longer \n",
    "<br> just because the speed is slower.\n",
    "<br>To test, would need to normalize for speed.\n",
    "<br> One way = plot speed vs. avg swing or stance length ... still a diff at same speeds?"
   ]
  },
  {
   "cell_type": "markdown",
   "id": "3a936e92",
   "metadata": {},
   "source": [
    "# Gait styles"
   ]
  },
  {
   "cell_type": "code",
   "execution_count": null,
   "id": "bfe01cbc",
   "metadata": {},
   "outputs": [],
   "source": [
    "# print(gait_summaries_df.columns)\n",
    "to_compare_gait = [\n",
    "    '% stand (lateral legs)',\n",
    "    '% pentapod (lateral legs)',\n",
    "    '% tetrapod canonical (lateral legs)',\n",
    "    '% tetrapod gallop (lateral legs)', \n",
    "    '% tetrapod other (lateral legs)',\n",
    "    '% tetrapod total (lateral legs)', \n",
    "    '% tripod canonical (lateral legs)',\n",
    "    '% tripod other (lateral legs)', \n",
    "    '% tripod total (lateral legs',\n",
    "#     '% other (lateral legs)',\n",
    "    '% stand (rear legs)', \n",
    "    '% hop (rear legs)',\n",
    "    '% step (rear legs)',\n",
    "    'Tetrapod Coordination Strength',\n",
    "    'Tetrapod Bout Speed (bodylength / s)',\n",
    "    'Tripod Coordination Strength',\n",
    "    'Tripod Bout Speed (bodylength / s)']\n",
    "print(len(to_compare_gait))"
   ]
  },
  {
   "cell_type": "code",
   "execution_count": null,
   "id": "a885b7dc",
   "metadata": {},
   "outputs": [],
   "source": [
    "rows,cols = [4,4]\n",
    "f,axes = plt.subplots(rows,cols,figsize = (8.5,11))\n",
    "axes_list = axes.reshape(1,len(to_compare_gait))[0]\n",
    "for i, col in enumerate(to_compare_gait):\n",
    "    axes_list[i] = compBoxPlot(axes_list[i], gait_summaries_df, col, len(to_compare_gait))\n",
    "    axes_list[i].yaxis.label.set_size(tick_fontsize)\n",
    "    axes_list[i].tick_params(axis='both', which='major', labelsize=tick_fontsize)\n",
    "plt.tight_layout()\n",
    "plt.show()"
   ]
  },
  {
   "cell_type": "code",
   "execution_count": null,
   "id": "d35fc08a",
   "metadata": {},
   "outputs": [],
   "source": []
  }
 ],
 "metadata": {
  "kernelspec": {
   "display_name": "Python 3 (ipykernel)",
   "language": "python",
   "name": "python3"
  },
  "language_info": {
   "codemirror_mode": {
    "name": "ipython",
    "version": 3
   },
   "file_extension": ".py",
   "mimetype": "text/x-python",
   "name": "python",
   "nbconvert_exporter": "python",
   "pygments_lexer": "ipython3",
   "version": "3.11.5"
  }
 },
 "nbformat": 4,
 "nbformat_minor": 5
}
