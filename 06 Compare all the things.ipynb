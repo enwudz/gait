{
 "cells": [
  {
   "cell_type": "code",
   "execution_count": 1,
   "id": "3dd723a7",
   "metadata": {},
   "outputs": [],
   "source": [
    "import pandas as pd\n",
    "import numpy as np\n",
    "import matplotlib.pyplot as plt\n",
    "import matplotlib as mpl\n",
    "import gaitFunctions\n",
    "import combineClips\n",
    "import plotClip\n",
    "import os\n",
    "import glob\n",
    "import seaborn as sns\n",
    "from scipy import stats\n",
    "import cv2\n",
    "\n",
    "def meanstdstr(vals):\n",
    "    return str(np.round(np.mean(vals),2)) + ' ± ' + str(np.round(np.std(vals),2))"
   ]
  },
  {
   "cell_type": "code",
   "execution_count": null,
   "id": "7e54435f",
   "metadata": {},
   "outputs": [],
   "source": [
    "# plot colors and parameters\n",
    "axis_fontsize=11\n",
    "tick_fontsize=9\n",
    "\n",
    "# colors for step kinematics\n",
    "stance_color = '#5656ff'\n",
    "swing_color = '#e1e813'\n",
    "duty_color = '#4d4d4d'\n",
    "ipsi_color = 'tab:red'\n",
    "contra_color = 'tab:green'\n",
    "\n",
    "# colors for legs\n",
    "first_pair_color = '#b45eff' # lavender\n",
    "first_pair_color_alt = '#661f99' # purple\n",
    "second_pair_color = '#006f2a' # green\n",
    "second_pair_color_alt = '#02db55' # light green\n",
    "third_pair_color = '#ffd500' # yellow\n",
    "third_pair_color_alt = '#fa9805' # orange\n",
    "rear_leg_color = '#00b6eb'# light blue\n",
    "rear_leg_color_alt = '#0010eb' # dark blue\n",
    "\n",
    "# scatter marker size and alpha\n",
    "marker_size = 10\n",
    "marker_alpha = 0.7\n",
    "marker_color = 'k'"
   ]
  },
  {
   "cell_type": "markdown",
   "id": "68894cb6",
   "metadata": {},
   "source": [
    "# select the folders to include in the analysis"
   ]
  },
  {
   "cell_type": "code",
   "execution_count": 3,
   "id": "b0ef093e",
   "metadata": {},
   "outputs": [
    {
     "name": "stdout",
     "output_type": "stream",
     "text": [
      "\n",
      "Choose from this list (separate by commas if multiple choices): \n",
      "1: Disulfiram 12Jan24 Inverted\n",
      "2: Disulfiram 13Dec23 Inverted\n",
      "3: Disulfiram 16Dec22 Inverted\n",
      "4: Disulfiram 8Dec22 Inverted\n",
      "5: xDisulfiram 21Nov22 dissectingscope\n",
      "6: zDisulfiram 16Nov23 TTclass StudentVids\n",
      "7: zDisulfiram 21April23 weakdrug\n",
      "8: select ALL\n",
      "\n",
      "Which number(s) do you want? 1,2,3,4\n",
      "You chose: Disulfiram 12Jan24 Inverted and Disulfiram 13Dec23 Inverted and Disulfiram 16Dec22 Inverted and Disulfiram 8Dec22 Inverted\n"
     ]
    }
   ],
   "source": [
    "# navigate to directory that contains the data\n",
    "os.chdir('/Users/iwoods/OneDrive - Ithaca College/2024_movement_disorder_paper/videos_disulfiram/')\n",
    "# list directories within this directory\n",
    "dirs = []\n",
    "for dirname, dirnames, filenames in os.walk('.'):\n",
    "    # print path to all subdirectories first.\n",
    "    for subdirname in dirnames:\n",
    "        folder = os.path.join(dirname, subdirname).split('/')[1]\n",
    "        if folder not in dirs:\n",
    "            dirs.append(folder)\n",
    "dirs = np.sort(np.unique(np.array(dirs)))\n",
    "dirs = [x for x in dirs if 'Disulfiram' in x]\n",
    "folders_in_analysis = gaitFunctions.selectMultipleFromList(dirs) "
   ]
  },
  {
   "cell_type": "code",
   "execution_count": null,
   "id": "c4b5a433",
   "metadata": {},
   "outputs": [],
   "source": [
    "# in each folder, look for a 'combined' excel file and load (or append) it to a dataframe\n",
    "# if there is no 'combined' excel file, run combineClips and then load the file\n",
    "\n",
    "# see how many things are in the 'treatment' column ... may need to fix."
   ]
  }
 ],
 "metadata": {
  "kernelspec": {
   "display_name": "Python 3 (ipykernel)",
   "language": "python",
   "name": "python3"
  },
  "language_info": {
   "codemirror_mode": {
    "name": "ipython",
    "version": 3
   },
   "file_extension": ".py",
   "mimetype": "text/x-python",
   "name": "python",
   "nbconvert_exporter": "python",
   "pygments_lexer": "ipython3",
   "version": "3.11.5"
  }
 },
 "nbformat": 4,
 "nbformat_minor": 5
}
