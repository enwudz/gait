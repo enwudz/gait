{
 "cells": [
  {
   "cell_type": "markdown",
   "id": "94d15e29",
   "metadata": {},
   "source": [
    "# Compare our values to Nirody et al. 2021\n",
    "<br>\n",
    "This notebook = inter-leg coordination <br>\n",
    "  ... in Nirody this is:<br>\n",
    "\n",
    "### Figure 4\n",
    "### Figure S6"
   ]
  },
  {
   "cell_type": "code",
   "execution_count": null,
   "id": "c29a41de",
   "metadata": {},
   "outputs": [],
   "source": [
    "import pandas as pd\n",
    "import numpy as np\n",
    "import matplotlib.pyplot as plt\n",
    "import os\n",
    "import glob\n",
    "import gaitFunctions\n",
    "import plotClip\n",
    "from scipy import stats\n",
    "import seaborn as sns"
   ]
  },
  {
   "cell_type": "code",
   "execution_count": null,
   "id": "2104c683",
   "metadata": {},
   "outputs": [],
   "source": [
    "# navigate to directory that contains the data\n",
    "os.chdir('/Users/iwoods/OneDrive - Ithaca College/movement_disorder_paper_2023/videos_exemplaris/analyses_summaries/')\n",
    "for f in sorted(glob.glob('*.xlsx')):\n",
    "    print(f)"
   ]
  },
  {
   "cell_type": "code",
   "execution_count": null,
   "id": "9934d87d",
   "metadata": {},
   "outputs": [],
   "source": [
    "# specify the data file\n",
    "data_file = 'iw_9Nov23_exemplaris_inverted_combined.xlsx'"
   ]
  }
 ],
 "metadata": {
  "kernelspec": {
   "display_name": "Python 3 (ipykernel)",
   "language": "python",
   "name": "python3"
  },
  "language_info": {
   "codemirror_mode": {
    "name": "ipython",
    "version": 3
   },
   "file_extension": ".py",
   "mimetype": "text/x-python",
   "name": "python",
   "nbconvert_exporter": "python",
   "pygments_lexer": "ipython3",
   "version": "3.11.5"
  }
 },
 "nbformat": 4,
 "nbformat_minor": 5
}
