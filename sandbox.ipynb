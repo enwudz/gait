{
 "cells": [
  {
   "cell_type": "code",
   "execution_count": 1,
   "id": "464a15ef",
   "metadata": {},
   "outputs": [],
   "source": [
    "import pandas as pd\n",
    "import numpy as np\n",
    "import matplotlib.pyplot as plt\n",
    "from matplotlib.patches import Rectangle\n",
    "from gait_analysis import *\n",
    "from scipy.stats import sem\n",
    "import os"
   ]
  },
  {
   "cell_type": "code",
   "execution_count": 2,
   "id": "cf95fc78",
   "metadata": {},
   "outputs": [
    {
     "name": "stdout",
     "output_type": "stream",
     "text": [
      "ldopa-1mm-cw\n",
      "caff-iw-tardi2-211011\n",
      "caff-control-iw-tardi2-211011\n",
      "3iy_1mg_cw_6min-iw\n",
      "iw-211021-t02\n",
      "tlo_garage_ram\n",
      "tardy9\n",
      "echiniscus_KT-t01-211021\n",
      "ldopa-500um-kt\n",
      "stumpyleg_drop\n",
      "ldopa-control-kt\n",
      "iw-211021-t01\n",
      "caroline_b01\n",
      "ldopa-control-cw\n",
      "H_exemplaris\n",
      "3iy_control-cw-2min-iw\n"
     ]
    }
   ],
   "source": [
    "# run in tardi_gait folder\n",
    "main_dir = os.getcwd()\n",
    "os.chdir(os.path.join(main_dir,'analyzed_movies'))\n",
    "\n",
    "dir_list = listDirectories()\n",
    "for d in dir_list:\n",
    "    print(d)"
   ]
  },
  {
   "cell_type": "code",
   "execution_count": 3,
   "id": "ef2f7722",
   "metadata": {},
   "outputs": [],
   "source": [
    "# choose which folders to compare\n",
    "dir1 = 'caff-control-iw-tardi2-211011'\n",
    "dir2 = 'caff-iw-tardi2-211011'\n",
    "\n",
    "fname = 'all_step_data_swings.csv' # created by the script save_step_data.py"
   ]
  },
  {
   "cell_type": "code",
   "execution_count": 4,
   "id": "17722229",
   "metadata": {},
   "outputs": [
    {
     "name": "stdout",
     "output_type": "stream",
     "text": [
      "\n",
      "Choose from this list (separate by commas if multiple choices): \n",
      "1: iw-tardi2-nocaff-157-210\n",
      "2: iw-tardi2-nocaff-230-240\n",
      "3: iw-tardi2-nocaff-126-136\n",
      "4: select ALL\n",
      "\n",
      "Which number(s) do you want? 4\n",
      "\n",
      "You chose them all\n",
      "\n",
      "Found iw-tardi2-nocaff-157-210/all_step_data_swings.csv\n",
      "Found iw-tardi2-nocaff-230-240/all_step_data_swings.csv\n",
      "Found iw-tardi2-nocaff-126-136/all_step_data_swings.csv\n",
      "DF size (413, 17)\n"
     ]
    },
    {
     "data": {
      "text/html": [
       "<div>\n",
       "<style scoped>\n",
       "    .dataframe tbody tr th:only-of-type {\n",
       "        vertical-align: middle;\n",
       "    }\n",
       "\n",
       "    .dataframe tbody tr th {\n",
       "        vertical-align: top;\n",
       "    }\n",
       "\n",
       "    .dataframe thead th {\n",
       "        text-align: right;\n",
       "    }\n",
       "</style>\n",
       "<table border=\"1\" class=\"dataframe\">\n",
       "  <thead>\n",
       "    <tr style=\"text-align: right;\">\n",
       "      <th></th>\n",
       "      <th>ref_leg</th>\n",
       "      <th>down_time</th>\n",
       "      <th>up_time</th>\n",
       "      <th>stance_time</th>\n",
       "      <th>swing_time</th>\n",
       "      <th>gait_cycle</th>\n",
       "      <th>duty_factor</th>\n",
       "      <th>mid_swing</th>\n",
       "      <th>R4_mid_swings</th>\n",
       "      <th>R3_mid_swings</th>\n",
       "      <th>R2_mid_swings</th>\n",
       "      <th>R1_mid_swings</th>\n",
       "      <th>L1_mid_swings</th>\n",
       "      <th>L2_mid_swings</th>\n",
       "      <th>L3_mid_swings</th>\n",
       "      <th>L4_mid_swings</th>\n",
       "      <th>clip</th>\n",
       "    </tr>\n",
       "  </thead>\n",
       "  <tbody>\n",
       "    <tr>\n",
       "      <th>22</th>\n",
       "      <td>R3</td>\n",
       "      <td>0.333</td>\n",
       "      <td>0.767</td>\n",
       "      <td>0.434</td>\n",
       "      <td>0.433</td>\n",
       "      <td>0.867</td>\n",
       "      <td>0.5006</td>\n",
       "      <td>0.9835</td>\n",
       "      <td>R4:0.9043</td>\n",
       "      <td>R3:0.7503</td>\n",
       "      <td>R2:</td>\n",
       "      <td>R1:</td>\n",
       "      <td>L1:1.0</td>\n",
       "      <td>L2:0.7503</td>\n",
       "      <td>L3:0.346</td>\n",
       "      <td>L4:0.5773</td>\n",
       "      <td>iw-tardi2-nocaff-157-210</td>\n",
       "    </tr>\n",
       "    <tr>\n",
       "      <th>23</th>\n",
       "      <td>R3</td>\n",
       "      <td>1.200</td>\n",
       "      <td>1.767</td>\n",
       "      <td>0.567</td>\n",
       "      <td>0.267</td>\n",
       "      <td>0.834</td>\n",
       "      <td>0.6799</td>\n",
       "      <td>1.9005</td>\n",
       "      <td>R4:0.5204</td>\n",
       "      <td>R3:0.8399</td>\n",
       "      <td>R2:0.44</td>\n",
       "      <td>R1:0.1607</td>\n",
       "      <td>L1:0.0;0.8801</td>\n",
       "      <td>L2:0.6001</td>\n",
       "      <td>L3:0.1199</td>\n",
       "      <td>L4:0.2404;0.9203</td>\n",
       "      <td>iw-tardi2-nocaff-157-210</td>\n",
       "    </tr>\n",
       "    <tr>\n",
       "      <th>24</th>\n",
       "      <td>R3</td>\n",
       "      <td>2.034</td>\n",
       "      <td>2.535</td>\n",
       "      <td>0.501</td>\n",
       "      <td>0.200</td>\n",
       "      <td>0.701</td>\n",
       "      <td>0.7147</td>\n",
       "      <td>2.6350</td>\n",
       "      <td>R4:0.3338</td>\n",
       "      <td>R3:0.8573</td>\n",
       "      <td>R2:0.5235</td>\n",
       "      <td>R1:0.2382</td>\n",
       "      <td>L1:0.8809</td>\n",
       "      <td>L2:0.5235</td>\n",
       "      <td>L3:0.1434</td>\n",
       "      <td>L4:0.6669</td>\n",
       "      <td>iw-tardi2-nocaff-157-210</td>\n",
       "    </tr>\n",
       "  </tbody>\n",
       "</table>\n",
       "</div>"
      ],
      "text/plain": [
       "   ref_leg  down_time  up_time  stance_time  swing_time  gait_cycle  \\\n",
       "22      R3      0.333    0.767        0.434       0.433       0.867   \n",
       "23      R3      1.200    1.767        0.567       0.267       0.834   \n",
       "24      R3      2.034    2.535        0.501       0.200       0.701   \n",
       "\n",
       "    duty_factor  mid_swing R4_mid_swings R3_mid_swings R2_mid_swings  \\\n",
       "22       0.5006     0.9835     R4:0.9043     R3:0.7503           R2:   \n",
       "23       0.6799     1.9005     R4:0.5204     R3:0.8399       R2:0.44   \n",
       "24       0.7147     2.6350     R4:0.3338     R3:0.8573     R2:0.5235   \n",
       "\n",
       "   R1_mid_swings  L1_mid_swings L2_mid_swings L3_mid_swings     L4_mid_swings  \\\n",
       "22           R1:         L1:1.0     L2:0.7503      L3:0.346         L4:0.5773   \n",
       "23     R1:0.1607  L1:0.0;0.8801     L2:0.6001     L3:0.1199  L4:0.2404;0.9203   \n",
       "24     R1:0.2382      L1:0.8809     L2:0.5235     L3:0.1434         L4:0.6669   \n",
       "\n",
       "                        clip  \n",
       "22  iw-tardi2-nocaff-157-210  \n",
       "23  iw-tardi2-nocaff-157-210  \n",
       "24  iw-tardi2-nocaff-157-210  "
      ]
     },
     "execution_count": 4,
     "metadata": {},
     "output_type": "execute_result"
    }
   ],
   "source": [
    "df1 = experimentToDf(dir1,fname)\n",
    "print('DF size',df1.shape)\n",
    "df1[df1.ref_leg=='R3'].head(3) "
   ]
  },
  {
   "cell_type": "code",
   "execution_count": 36,
   "id": "55c8080d",
   "metadata": {},
   "outputs": [
    {
     "name": "stdout",
     "output_type": "stream",
     "text": [
      "iw-tardi2-nocaff-230-240\n",
      "iw-tardi2-nocaff-126-136\n",
      "iw-tardi2-nocaff-157-210\n"
     ]
    },
    {
     "data": {
      "image/png": "[encoded data removed]",
      "text/plain": [
       "<Figure size 576x216 with 1 Axes>"
      ]
     },
     "metadata": {
      "needs_background": "light"
     },
     "output_type": "display_data"
    }
   ],
   "source": [
    "# how consistent is a given parameter between the different clips?\n",
    "clips = list(set(df1['clip'].values))\n",
    "parameter = 'stance_time'\n",
    "leg = 'R3'\n",
    "data_to_plot = []\n",
    "for clip in clips:\n",
    "    print(clip)\n",
    "    data_for_clip = df1[df1['clip'] == clip]\n",
    "    data_for_leg = data_for_clip[data_for_clip['ref_leg']==leg]\n",
    "    data_for_parameter = data_for_leg[parameter].values\n",
    "    data_to_plot.append(data_for_parameter)\n",
    "f = plt.figure(figsize = (8,3))\n",
    "plt.boxplot(data_to_plot)\n",
    "locs, labels = plt.xticks()\n",
    "labels = clips\n",
    "plt.xticks(locs,labels)\n",
    "plt.ylabel(parameter + ' for ' + leg)\n",
    "plt.show()"
   ]
  },
  {
   "cell_type": "code",
   "execution_count": 15,
   "id": "bed01fce",
   "metadata": {},
   "outputs": [
    {
     "data": {
      "image/png": "[encoded data removed]",
      "text/plain": [
       "<Figure size 432x288 with 1 Axes>"
      ]
     },
     "metadata": {
      "needs_background": "light"
     },
     "output_type": "display_data"
    }
   ],
   "source": [
    "t = [[1,2,3],[2,3,4],[3,4,5,6,7]]\n",
    "plt.boxplot(t)\n",
    "plt.show()"
   ]
  },
  {
   "cell_type": "code",
   "execution_count": null,
   "id": "b9b88896",
   "metadata": {},
   "outputs": [],
   "source": [
    "# run in tardi_gait folder\n",
    "main_dir = os.getcwd()\n",
    "os.chdir(os.path.join(main_dir,'analyzed_movies'))\n",
    "\n",
    "dir_list = listDirectories()\n",
    "for d in dir_list:\n",
    "    print(d)"
   ]
  },
  {
   "cell_type": "code",
   "execution_count": null,
   "id": "a9e04712",
   "metadata": {},
   "outputs": [],
   "source": [
    "# select experiment to analyze\n",
    "experiment_dir = 'caff-iw-tardi2-211011'\n",
    "os.chdir(os.path.join(main_dir,'analyzed_movies',experiment_dir))"
   ]
  },
  {
   "cell_type": "code",
   "execution_count": null,
   "id": "50d0c4a0",
   "metadata": {},
   "outputs": [],
   "source": [
    "# get list of directories in working folder\n",
    "dirs = listDirectories()\n",
    "\n",
    "# select directories that contain data to analyze\n",
    "data_folders = selectFromList(dirs)"
   ]
  },
  {
   "cell_type": "code",
   "execution_count": null,
   "id": "cf97a2bf",
   "metadata": {},
   "outputs": [],
   "source": [
    "# for each directory, parse data in mov_data.txt\n",
    "# add add this data to leg_dict\n",
    "folder = data_folders[0]\n",
    "\n",
    "mov_data = os.path.join(folder, 'mov_data.txt')"
   ]
  },
  {
   "cell_type": "code",
   "execution_count": null,
   "id": "d38c3a49",
   "metadata": {},
   "outputs": [],
   "source": [
    "leg_dict = makeLegDict()\n",
    "up_down_times, movieLength = getUpDownTimes(mov_data)\n",
    "leg_dict = addDataToLegDict(leg_dict,up_down_times)"
   ]
  },
  {
   "cell_type": "code",
   "execution_count": null,
   "id": "c7a29e94",
   "metadata": {},
   "outputs": [],
   "source": [
    "boxdata = []\n",
    "legs = ['L4','L3','L2','L1','R1','R2','R3','R4']\n",
    "for leg in legs:\n",
    "    d = 'duty_factors'\n",
    "    boxdata.append(leg_dict[leg][d])\n",
    "plt.ylabel(d)\n",
    "plt.boxplot(boxdata)\n",
    "plt.show()"
   ]
  },
  {
   "cell_type": "code",
   "execution_count": null,
   "id": "5e612769",
   "metadata": {},
   "outputs": [],
   "source": [
    "# quality control for up_down_times ... make sure they are alternating!\n",
    "def qcUpDownTimes(up_down_times):\n",
    "    for leg in up_down_times.keys():\n",
    "        downs = up_down_times[leg]['d']\n",
    "        ups = up_down_times[leg]['u']\n",
    "        combo_times = np.array(downs + ups)\n",
    "        down_array = ['d'] * len(downs)\n",
    "        up_array = ['u'] * len(ups)\n",
    "        combo_ud = np.array(down_array + up_array)\n",
    "        inds = combo_times.argsort()\n",
    "        sorted_ud = combo_ud[inds]\n",
    "        for i in range(len(sorted_ud[:-1])):\n",
    "            if sorted_ud[i] == sorted_ud[i+1]:\n",
    "                print('alternating u/d problem for ' + leg)"
   ]
  },
  {
   "cell_type": "code",
   "execution_count": null,
   "id": "d1bf6f55",
   "metadata": {},
   "outputs": [],
   "source": [
    "qcUpDownTimes(up_down_times)"
   ]
  },
  {
   "cell_type": "code",
   "execution_count": null,
   "id": "08e30b0f",
   "metadata": {},
   "outputs": [],
   "source": []
  },
  {
   "cell_type": "code",
   "execution_count": null,
   "id": "b33d36d7",
   "metadata": {},
   "outputs": [],
   "source": []
  },
  {
   "cell_type": "code",
   "execution_count": null,
   "id": "694c51a0",
   "metadata": {},
   "outputs": [],
   "source": []
  },
  {
   "cell_type": "code",
   "execution_count": null,
   "id": "38022d14",
   "metadata": {},
   "outputs": [],
   "source": []
  },
  {
   "cell_type": "code",
   "execution_count": null,
   "id": "7b1e0e4a",
   "metadata": {},
   "outputs": [],
   "source": []
  },
  {
   "cell_type": "code",
   "execution_count": null,
   "id": "29988d41",
   "metadata": {},
   "outputs": [],
   "source": [
    "import numpy as np\n",
    "import matplotlib.pyplot as plt\n",
    "from collections import Counter"
   ]
  },
  {
   "cell_type": "code",
   "execution_count": null,
   "id": "6451615b",
   "metadata": {},
   "outputs": [],
   "source": [
    "def getDataFromFile(fname):\n",
    "    legDict = {}\n",
    "    with open(fname, 'r') as f:\n",
    "        for line in f:\n",
    "            if line.startswith('Length'):\n",
    "                movieLength = float(line.rstrip().split()[1])\n",
    "            if line.startswith('Data'):\n",
    "                currentLeg = line.rstrip().split()[2]\n",
    "                legDict[currentLeg] = {}\n",
    "            if line.startswith('Foot Down'):\n",
    "                line = line.rstrip()\n",
    "                footdown = parseFootLine(line)\n",
    "                legDict[currentLeg]['d'] = footdown\n",
    "            if line.startswith('Foot Up'):\n",
    "                line = line.rstrip()\n",
    "                footup = parseFootLine(line)\n",
    "                legDict[currentLeg]['u'] = footup\n",
    "    return legDict, movieLength\n",
    "\n",
    "def parseFootLine(footline):\n",
    "    return [int(x) / 1000 for x in footline.split(': ')[1].split()]"
   ]
  },
  {
   "cell_type": "code",
   "execution_count": null,
   "id": "c9d0cdfd",
   "metadata": {},
   "outputs": [],
   "source": [
    "fname = 'test_crawl/mov_data.txt'\n",
    "# fname = 'iw-tardi2-nocaff-230-240/mov_data.txt'\n",
    "# legDict_230_240, movieLength = getDataFromFile(fname)\n",
    "# fname = 'iw-tardi2-nocaff-157-210//mov_data.txt'\n",
    "# legDict_157_210, movieLength = getDataFromFile(fname)"
   ]
  },
  {
   "cell_type": "code",
   "execution_count": null,
   "id": "79087316",
   "metadata": {},
   "outputs": [],
   "source": [
    "# get durations of stances and swings for a leg\n",
    "# inputs = lists of times of foot-down (d) and foot-up (u)\n",
    "# can get these lists from leg_dictionary, out of getDataFromFile\n",
    "def getStancesSwings(d,u):\n",
    "    stances = []\n",
    "    swings = []\n",
    "\n",
    "    # get stance durations\n",
    "    if d[-1] > u[-1]:\n",
    "        # last down is greater than last up\n",
    "        # so ... going to ignore last down\n",
    "        downs = d[:-1]\n",
    "    else:\n",
    "        downs = d   \n",
    "\n",
    "    for step in downs:\n",
    "        upstep = u[np.argmax(u>step)]\n",
    "        # print(step,upstep)\n",
    "        duration = upstep - step\n",
    "        stances.append(duration)\n",
    "\n",
    "    # get swing durations\n",
    "    if u[-1] > d[-1]:\n",
    "        # last up is greater than last down\n",
    "        # so ... going to ignore last up\n",
    "        ups = u[:-1]\n",
    "    else:\n",
    "        ups = u\n",
    "\n",
    "    for step in ups:\n",
    "        downstep = d[np.argmax(d>step)]\n",
    "        # print(step,downstep)\n",
    "        duration = downstep - step\n",
    "        swings.append(duration)    \n",
    "\n",
    "    stances = np.array(stances)\n",
    "    swings = np.array(swings)\n",
    "\n",
    "    return stances, swings\n",
    "\n",
    "# given 2 legs ... get intervals between the down-steps of those legs\n",
    "# input = lists of times of down-steps\n",
    "def getStepIntervals(leg_down_1, leg_down_2):\n",
    "    intervals = []\n",
    "\n",
    "    if leg_down_1[-1] > leg_down_2[-1]:\n",
    "        # last step of leg 1 is after leg 2 ... so we will ignore it\n",
    "        leg_down_1 = leg_down_1[:-1]\n",
    "\n",
    "    for step in leg_down_1:\n",
    "        next_step = leg_down_2[np.argmax(leg_down_2>step)]\n",
    "        # print(step,upstep)\n",
    "        duration = next_step - step\n",
    "        intervals.append(duration)\n",
    "\n",
    "    return intervals"
   ]
  },
  {
   "cell_type": "code",
   "execution_count": null,
   "id": "1a92c668",
   "metadata": {},
   "outputs": [],
   "source": [
    "leg = 'R2'\n",
    "d = np.array(legDict[leg]['d'])\n",
    "u = np.array(legDict[leg]['u'])\n",
    "print(d)"
   ]
  },
  {
   "cell_type": "code",
   "execution_count": null,
   "id": "6bf50fbb",
   "metadata": {},
   "outputs": [],
   "source": [
    "# boxplot of stance or swing data\n",
    "def plot_stance(leg_dict,leg_list,to_plot = 'stance'):\n",
    "    plt.style.use('fivethirtyeight')\n",
    "    box_data = []\n",
    "    \n",
    "    for leg in leg_list:\n",
    "        stances_leg, swings_leg =  getStancesSwings( np.array(leg_dict[leg]['d']), np.array(leg_dict[leg]['u']) )\n",
    "        if to_plot == 'swing':\n",
    "            box_data.append(swings_leg)\n",
    "            ylab = 'Swing Time (sec)'\n",
    "        else:\n",
    "            box_data.append(stances_leg)\n",
    "            ylab = 'Stance Time (sec)'\n",
    "            \n",
    "    f,a = plt.subplots(1, figsize=(4,4), facecolor='w')\n",
    "    a.boxplot(box_data)\n",
    "    a.set_xticklabels(leg_list)\n",
    "    a.set_ylabel(ylab)\n",
    "    a.set_xlabel('legs')\n",
    "    a.set_facecolor('w')\n",
    "    plt.show()\n",
    "    \n",
    "    return box_data"
   ]
  },
  {
   "cell_type": "code",
   "execution_count": null,
   "id": "e69515f3",
   "metadata": {},
   "outputs": [],
   "source": [
    "# testing boxplots\n",
    "#plot_stance(legDict,['L4','L3','L2','L1'],'stance')\n",
    "#plot_stance(legDict,['R4','R3','R2','R1'],'stance')\n",
    "\n",
    "plot_stance(legDict_230_240,['R4','R3','R2','R1'],'swing')\n",
    "#plot_stance(legDict_230_240,['L4','L3','L2','L1'],'swing')"
   ]
  },
  {
   "cell_type": "code",
   "execution_count": null,
   "id": "2b499138",
   "metadata": {},
   "outputs": [],
   "source": [
    "plot_stance(legDict_157_210,['R4','R3','R2','R1'],'swing')\n",
    "#plot_stance(legDict_157_210,['L4','L3','L2','L1'],'swing')"
   ]
  },
  {
   "cell_type": "code",
   "execution_count": null,
   "id": "095606dc",
   "metadata": {},
   "outputs": [],
   "source": [
    "# just testing - order all leg steps based on step times\n",
    "# first, want to sort one list based on order of another\n",
    "# for example \n",
    "\n",
    "R1 = [22,35,67]\n",
    "R2 = [11,33,64]\n",
    "R3 = [10,32,63]\n",
    "R4 = [9, 31, 56]\n",
    "L1 = [12, 34, 27]\n",
    "\n",
    "legs_R1 = ['R1'] * len(R1)\n",
    "legs_R2 = ['R2'] * len(R2)\n",
    "legs_R3 = ['R3'] * len(R3)\n",
    "legs_R4 = ['R4'] * len(R4)\n",
    "legs_L1 = ['L1'] * len(R4)\n",
    "\n",
    "stepTimes = R1 + R2 + R3 + R4 + L1\n",
    "legs = legs_R1 + legs_R2 + legs_R3 + legs_R4 + legs_L1\n",
    "print(stepTimes)\n",
    "print(legs)"
   ]
  },
  {
   "cell_type": "code",
   "execution_count": null,
   "id": "28b4d155",
   "metadata": {},
   "outputs": [],
   "source": [
    "# get list of leg steps in order, based on concatenated lists of legs and step times\n",
    "# e.g. legs = ['R1','R1','R1','R2','R2','R2']\n",
    "# stepTimes = [1, 4, 9, 2, 5, 11]\n",
    "# returns ['R1','R2','R1','R2','R1','R2']\n",
    "def sort_leg_times(legs, stepTimes): \n",
    "    zipped_pairs = zip(stepTimes, legs)\n",
    "    leg_order = [x for _, x in sorted(zipped_pairs)]\n",
    "    return leg_order\n",
    "\n",
    "# given a list of leg order, like this\n",
    "# ['R1', 'R1', 'R1', 'R2', 'R4', 'R4', 'R4', 'L1', 'L1', 'L1']\n",
    "# make dictionary of what leg comes next most often\n",
    "# turns out to be not so useful?\n",
    "def whatIsNextLeg(leg_order):\n",
    "    unique_legs = sorted(list(set(leg_order)))\n",
    "\n",
    "    next_step_dict = {}\n",
    "\n",
    "    for leg in unique_legs:\n",
    "        # what are indices of this leg in leg_order?\n",
    "        indices = [i for i, x in enumerate(leg_order) if x == leg]\n",
    "\n",
    "        if indices[-1] + 2 > len(leg_order):\n",
    "            indices = indices[:-1]\n",
    "\n",
    "        next_steps = [leg_order[i+1] for i in indices]\n",
    "\n",
    "        unique_next_steps = sorted(list(set(next_steps)))\n",
    "\n",
    "        d = dict(Counter(next_steps))\n",
    "        next_step_list = sorted(d.items(), key=lambda x:x[1], reverse=True)\n",
    "        print(leg, next_step_list)\n",
    "        next_step_dict[leg] = next_step_list[0][0]\n",
    "        print()\n",
    "    return next_step_dict"
   ]
  },
  {
   "cell_type": "code",
   "execution_count": null,
   "id": "6662cc03",
   "metadata": {},
   "outputs": [],
   "source": [
    "leg_order = sort_leg_times(legs, stepTimes)\n",
    "print(leg_order)"
   ]
  },
  {
   "cell_type": "code",
   "execution_count": null,
   "id": "98db185f",
   "metadata": {},
   "outputs": [],
   "source": [
    "next_step_dict = whatIsNextLeg(leg_order)\n",
    "\n",
    "for leg in sorted(next_step_dict.keys()):\n",
    "    print(leg,next_step_dict[leg])"
   ]
  },
  {
   "cell_type": "code",
   "execution_count": null,
   "id": "f0f469df",
   "metadata": {},
   "outputs": [],
   "source": [
    "# try with real data\n",
    "L1 = np.array(legDict['L1']['d'])\n",
    "legs_L1 = ['L1'] * len(L1)\n",
    "R1 = np.array(legDict['R1']['d'])\n",
    "legs_R1 = ['R1'] * len(R1)\n",
    "\n",
    "L2 = np.array(legDict['L2']['d'])\n",
    "legs_L2 = ['L2'] * len(L2)\n",
    "R2 = np.array(legDict['R2']['d'])\n",
    "legs_R2 = ['R2'] * len(R2)\n",
    "\n",
    "L3 = np.array(legDict['L3']['d'])\n",
    "legs_L3 = ['L3'] * len(L3)\n",
    "R3 = np.array(legDict['R3']['d'])\n",
    "legs_R3 = ['R3'] * len(R3)\n",
    "\n",
    "L4 = np.array(legDict['L4']['d'])\n",
    "legs_L4 = ['L4'] * len(L4)\n",
    "R4 = np.array(legDict['R4']['d'])\n",
    "legs_R4 = ['R4'] * len(R4)\n",
    "\n",
    "legs = legs_L1 + legs_R1 + legs_L2 + legs_R2 + legs_L3 + legs_R3 + legs_L4 + legs_R4 \n",
    "stepTimes = np.hstack([L1,R1,L2,R2,L3,R3,L4,R4])\n",
    "\n",
    "print(legs)\n",
    "print(stepTimes)\n",
    "\n",
    "leg_order = sort_leg_times(legs, stepTimes)\n",
    "print(leg_order)"
   ]
  },
  {
   "cell_type": "code",
   "execution_count": null,
   "id": "76c07826",
   "metadata": {},
   "outputs": [],
   "source": [
    "next_step_dict = whatIsNextLeg(leg_order)\n",
    "\n",
    "for leg in sorted(next_step_dict.keys()):\n",
    "    print(leg,next_step_dict[leg])"
   ]
  },
  {
   "cell_type": "code",
   "execution_count": null,
   "id": "ac14719a",
   "metadata": {},
   "outputs": [],
   "source": [
    "# first two\n",
    "# guess ... R1 L2 R1 L1\n",
    "# looking at plot. . . . L2 L1 R1 R2  OR  L2 R2 L1 R1\n",
    "\n",
    "# three\n",
    "# L3 R3 L2 R2 L1 R1"
   ]
  },
  {
   "cell_type": "code",
   "execution_count": null,
   "id": "16e10424",
   "metadata": {},
   "outputs": [],
   "source": [
    "leg_down_1 = np.array(legDict['R2']['d'])\n",
    "leg_down_2 = np.array(legDict['L2']['d'])\n",
    "\n",
    "intervals = getStepIntervals(leg_down_1, leg_down_2)\n",
    "print(intervals)\n",
    "print(np.mean(intervals))"
   ]
  },
  {
   "cell_type": "code",
   "execution_count": null,
   "id": "1544513a",
   "metadata": {},
   "outputs": [],
   "source": [
    "R4caff = '0.333 0.4 0.467 0.267 0.267 0.366 0.367 0.334 0.501 0.434 0.367 0.334 0.266 0.233 0.233 0.4 0.334 0.301 0.267 0.233 0.233 0.2'\n",
    "R4nocaff = '0.333 0.4 0.467 0.267 0.267 0.366 0.367 0.334 0.501 0.434 0.367 0.334 0.266 0.233 0.233 0.4 0.334 0.301 0.267 0.233 0.233 0.2 0.367 0.267 0.401 0.333 0.234 0.367 0.3 0.3 0.234 0.267 0.3 0.3 0.334 0.2 0.334 0.367 0.267 0.3 0.3 0.333 0.367 0.301 0.3 0.267 0.267 0.267 0.2 0.3 0.267 0.333 0.267 0.267 0.201 0.267 0.267 0.266 0.233 0.233 0.233 0.266 0.267 0.233'\n",
    "\n",
    "R4caff = [float(x) for x in R4caff.split()]\n",
    "R4nocaff = [float(x) for x in R4nocaff.split()]"
   ]
  },
  {
   "cell_type": "code",
   "execution_count": null,
   "id": "9a01532d",
   "metadata": {},
   "outputs": [],
   "source": [
    "L4caff = '0.334 0.334 0.5 0.334 0.3 0.3 0.367 0.366 0.467 0.4 0.334 0.367 0.3 0.201 0.3 0.401 0.267 0.3 0.233 0.267 0.2 0.234 0.3'\n",
    "L4nocaff = '0.334 0.334 0.5 0.334 0.3 0.3 0.367 0.366 0.467 0.4 0.334 0.367 0.3 0.201 0.3 0.401 0.267 0.3 0.233 0.267 0.2 0.234 0.3 0.334 0.3 0.3 0.267 0.3 0.3 0.267 0.3 0.367 0.3 0.334 0.3 0.233 0.3 0.3 0.233 0.3 0.267 0.334 0.334 0.334 0.366 0.234 0.334 0.301 0.3 0.367 0.3 0.301 0.267 0.267 0.233 0.267 0.266 0.234 0.267 0.267 0.3 0.233 0.234'\n",
    "\n",
    "L4caff = [float(x) for x in L4caff.split()]\n",
    "L4nocaff = [float(x) for x in L4nocaff.split()]"
   ]
  },
  {
   "cell_type": "code",
   "execution_count": null,
   "id": "2c616a7c",
   "metadata": {},
   "outputs": [],
   "source": [
    "caff = L4caff\n",
    "nocaff = L4nocaff\n",
    "\n",
    "f,a = plt.subplots(1, figsize = (4,4), facecolor = 'w')\n",
    "plt.style.use('fivethirtyeight')\n",
    "a.boxplot([L4nocaff,L4caff])\n",
    "a.set_xticklabels(['No caffeine','Caffeine'])\n",
    "a.set_ylabel('Stance time for L4 (sec)')\n",
    "a.set_xlabel('Treatment')\n",
    "a.set_facecolor('w')\n",
    "plt.show()"
   ]
  },
  {
   "cell_type": "code",
   "execution_count": null,
   "id": "98dc5adf",
   "metadata": {},
   "outputs": [],
   "source": []
  }
 ],
 "metadata": {
  "kernelspec": {
   "display_name": "Python 3.8.9 64-bit",
   "language": "python",
   "name": "python3"
  },
  "language_info": {
   "codemirror_mode": {
    "name": "ipython",
    "version": 3
   },
   "file_extension": ".py",
   "mimetype": "text/x-python",
   "name": "python",
   "nbconvert_exporter": "python",
   "pygments_lexer": "ipython3",
   "version": "3.8.9"
  },
  "vscode": {
   "interpreter": {
    "hash": "37ca0e02801fd09c29446b0a57931fa7c8bd3a33e756703b12919ee4e41e85db"
   }
  }
 },
 "nbformat": 4,
 "nbformat_minor": 5
}
