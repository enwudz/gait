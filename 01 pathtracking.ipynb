{
 "cells": [
  {
   "cell_type": "code",
   "execution_count": 1,
   "id": "85a9c32c",
   "metadata": {},
   "outputs": [],
   "source": [
    "import pandas as pd\n",
    "import numpy as np\n",
    "import matplotlib.pyplot as plt\n",
    "import os\n",
    "import glob\n",
    "import seaborn as sns\n",
    "import cv2"
   ]
  },
  {
   "cell_type": "code",
   "execution_count": 2,
   "id": "01a819e1",
   "metadata": {},
   "outputs": [
    {
     "name": "stdout",
     "output_type": "stream",
     "text": [
      "iw_11Dec23_exemplaris_inverted\n",
      "iw_12Dec22_exemplaris_inverted\n",
      "iw_14Dec22_exemplaris_inverted\n",
      "iw_1Feb23_exemplaris_inverted\n",
      "iw_21Dec23_exemplaris_inverted\n",
      "iw_30Jan23_exemplaris_inverted\n",
      "iw_6Dec22_exemplaris_olympus\n",
      "iw_9Nov23_exemplaris_inverted\n",
      "jb_1Feb23_exemplaris_inverted\n",
      "kt_8Feb23_exemplaris_inverted\n"
     ]
    }
   ],
   "source": [
    "# navigate to directory that contains the data\n",
    "os.chdir('/Users/iwoods/OneDrive - Ithaca College/movement_disorder_paper_2023/videos_exemplaris/')\n",
    "# list directories within this directory\n",
    "dirs = []\n",
    "for dirname, dirnames, filenames in os.walk('.'):\n",
    "    # print path to all subdirectories first.\n",
    "    for subdirname in dirnames:\n",
    "        folder = os.path.join(dirname, subdirname).split('/')[1]\n",
    "        if folder not in dirs:\n",
    "            dirs.append(folder)\n",
    "dirs = np.sort(np.unique(np.array(dirs)))\n",
    "for folder in dirs:\n",
    "    if 'exemplaris' in folder:\n",
    "        print(folder)"
   ]
  },
  {
   "cell_type": "code",
   "execution_count": 4,
   "id": "14e746da",
   "metadata": {},
   "outputs": [
    {
     "name": "stdout",
     "output_type": "stream",
     "text": [
      "Total number of videos: 38\n",
      "Getting video info with cv2\n",
      "iw_9Nov23_exemplaris_inverted/original_videos/iw_9Nov_tardigrade09_exemplaris.mp4\n",
      "iw_9Nov23_exemplaris_inverted/original_videos/iw_9Nov_tardigrade14_exemplaris.mp4\n"
     ]
    }
   ],
   "source": [
    "# get durations of videos (in seconds)\n",
    "# if there is a 'vid_info.csv' file already, then great!\n",
    "# if not, we need to make this file ... and the videos need to be downloaded on the hard drive\n",
    "# (if they are in the cloud, this will freeze)\n",
    "\n",
    "folders_in_analysis = ['iw_9Nov23_exemplaris_inverted',\n",
    "                       'iw_11Dec23_exemplaris_inverted',\n",
    "      s                 'iw_21Dec23_exemplaris_inverted']\n",
    "\n",
    "original_vids = []\n",
    "for folder in folders_in_analysis:\n",
    "    original_vids.extend(glob.glob(os.path.join(folder,'original_videos','*mp4')))\n",
    "    original_vids.extend(glob.glob(os.path.join(folder,'original_videos','*mov')))\n",
    "num_videos = len(original_vids)\n",
    "\n",
    "print('Total number of videos: ' + str(num_videos))\n",
    "\n",
    "if len(glob.glob(os.path.join(folder, 'vid_info.csv'))) > 0:\n",
    "    vid_df = pd.read_csv('vid_info.csv')\n",
    "else:\n",
    "    print('Getting video info with cv2')\n",
    "\n",
    "    vid_names = sorted(original_vids)\n",
    "    fps = []\n",
    "    width = []\n",
    "    height = []\n",
    "    frames = []\n",
    "    duration = []\n",
    "    \n",
    "    for vid in sorted(original_vids[:2]):\n",
    "        print(vid)\n",
    "        cap = cv2.VideoCapture(vid)\n",
    "        fps.append(cap.get(cv2.CAP_PROP_FPS))\n",
    "        width.append(cap.get(cv2.CAP_PROP_FRAME_WIDTH))\n",
    "        height.append(cap.get(cv2.CAP_PROP_FRAME_HEIGHT))\n",
    "        totalNoFrames.append(cap.get(cv2.CAP_PROP_FRAME_COUNT))\n",
    "        durationInSeconds.append(totalNoFrames / fps)\n",
    "        cap.release()\n",
    "        \n",
    "    # convert this info into a dataFrame\n",
    "    vid_info_dict = {\n",
    "        'Video File':vid_names,\n",
    "        'fps':fps,\n",
    "        'width':width,\n",
    "        'height':height,\n",
    "        'frames':frames,\n",
    "        'duration':duration\n",
    "    }\n",
    "    vid_df = pd.DataFrame(vid_info_dict)\n",
    "    \n",
    "    # save dataFrame to csv\n",
    "    vid_df.to_csv('vid_info.csv', index=False)"
   ]
  },
  {
   "cell_type": "code",
   "execution_count": null,
   "id": "2bd233a0",
   "metadata": {},
   "outputs": [],
   "source": [
    "'''\n",
    "Summarize our samples\n",
    "    # of tardigrades\n",
    "    secs of video taken for each tardigrade\n",
    "    secs of video remaining after trimming\n",
    "'''"
   ]
  }
 ],
 "metadata": {
  "kernelspec": {
   "display_name": "Python 3 (ipykernel)",
   "language": "python",
   "name": "python3"
  },
  "language_info": {
   "codemirror_mode": {
    "name": "ipython",
    "version": 3
   },
   "file_extension": ".py",
   "mimetype": "text/x-python",
   "name": "python",
   "nbconvert_exporter": "python",
   "pygments_lexer": "ipython3",
   "version": "3.11.5"
  }
 },
 "nbformat": 4,
 "nbformat_minor": 5
}
