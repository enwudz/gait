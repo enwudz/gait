{
 "cells": [
  {
   "cell_type": "markdown",
   "id": "1d16de8c",
   "metadata": {},
   "source": [
    "# Compare our values to Nirody et al. 2021\n",
    "<br>\n",
    "This notebook = speed vs. step parameters <br>\n",
    "  ... in Nirody this is:<br>\n",
    "\n",
    "### Figure 2\n",
    "### Figure 3\n",
    "### Figure S1\n",
    "### Figure S5"
   ]
  },
  {
   "cell_type": "code",
   "execution_count": 1,
   "id": "8b7ba94e",
   "metadata": {},
   "outputs": [],
   "source": [
    "import pandas as pd\n",
    "import numpy as np\n",
    "import matplotlib.pyplot as plt\n",
    "import os\n",
    "import glob\n",
    "import gaitFunctions\n",
    "import plotClip"
   ]
  },
  {
   "cell_type": "raw",
   "id": "15ef71e6",
   "metadata": {},
   "source": [
    "Figure 2 text\n",
    "\n",
    "In our experiments, tardigrades walk with an average speed of 163.0 ± 49.9 μm/s (N = 23 animals: 0.48 ± 0.11 body lengths per s; range: 79.1 to 263.5 μm/s). \n",
    "\n",
    "To initially describe the walking behavior we examine the relationship between several kinematic parameters and speed (Fig. 2 and SI Appendix, Fig. S1). A stride for each leg comprises a “swing” phase, in which the leg is lifted and takes a step, and a “stance” phase, in which the leg is in contact with the ground. \n",
    "\n",
    "Step amplitude, defined as the distance between the posterior extreme position (PEP) measured at liftoff of a leg at the start of a swing and the anterior extreme position (AEP) measured at touchdown of the same leg at the end of swing, increases with forward walking speed (Fig. 2A). \n",
    "\n",
    "Stride period decreases with walking speed, plateauing at walking speeds of approximately v > 100 μm/s (Fig. 2B). \n",
    "\n",
    "As speed increases, stance duration is modulated strongly while swing duration remains relatively constant (Fig. 2C). \n",
    "\n",
    "Both stance duration and stride period show a hyperbolic relationship with speed, as observed in insects [Drosophila (13), stick insect Carausius morosus (29), and desert ant Cataglyphyis fortis (30)]. In line with studies in arthropods, we find that swing duration is coordinated with stride period (ρ = 0.54, P < 0.001)."
   ]
  },
  {
   "cell_type": "code",
   "execution_count": null,
   "id": "edc1fbe1",
   "metadata": {},
   "outputs": [],
   "source": []
  },
  {
   "cell_type": "raw",
   "id": "6f13ddc1",
   "metadata": {},
   "source": [
    "Figure 3 text\n",
    "\n",
    "This relative modulation is cleanly characterized by changes in the duty factor, the proportion of a gait cycle spent in stance phase. Duty factor changes smoothly with walking speed across the majority of arthropods, which is consistent with observations that arthropod stepping patterns lie along a continuum. Tardigrades, like all arthropod species surveyed, show a smooth relationship between duty factor and forward walking speed (Fig. 3), suggesting that they similarly do not display discrete gaits but continuously transition between ICPs. \n",
    "\n",
    "Faster walking speeds generally result in stepping patterns with lower duty factors—i.e., legs spend proportionally less time on the ground the faster the animal is moving. Species that do not utilize a wide range of stepping patterns therefore do not show significant changes in duty factor over observed speeds. For instance, the adult stick insect C. morosus is a slow, careful walker and overwhelmingly favors a stable tetrapodal coordination (in which four legs are kept on the ground at any given time), maintaining a near-constant duty factor across its small range of natural walking speeds (Fig. 3, Inset, purple). The tardigrade H. exemplaris, which has to navigate similarly complex terrain (albeit at a very different length scale), displays a relatively weak correlation between duty factor and speed in (ρ = −0.33, P < 0.001). This may suggest that living in and moving through variable environments results in a preference for a consistent, stable stepping pattern over the ability to walk at a wide range of speeds."
   ]
  }
 ],
 "metadata": {
  "kernelspec": {
   "display_name": "Python 3 (ipykernel)",
   "language": "python",
   "name": "python3"
  },
  "language_info": {
   "codemirror_mode": {
    "name": "ipython",
    "version": 3
   },
   "file_extension": ".py",
   "mimetype": "text/x-python",
   "name": "python",
   "nbconvert_exporter": "python",
   "pygments_lexer": "ipython3",
   "version": "3.11.5"
  }
 },
 "nbformat": 4,
 "nbformat_minor": 5
}
